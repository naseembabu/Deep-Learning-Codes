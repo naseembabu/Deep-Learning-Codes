{
  "nbformat": 4,
  "nbformat_minor": 0,
  "metadata": {
    "colab": {
      "name": "CS575 Lab2 Assignment.ipynb",
      "provenance": [],
      "collapsed_sections": [],
      "toc_visible": true,
      "authorship_tag": "ABX9TyN2EBtWAIucdXmhcx+WOhSz",
      "include_colab_link": true
    },
    "kernelspec": {
      "name": "python3",
      "display_name": "Python 3"
    }
  },
  "cells": [
    {
      "cell_type": "markdown",
      "metadata": {
        "id": "view-in-github",
        "colab_type": "text"
      },
      "source": [
        "<a href=\"https://colab.research.google.com/github/naseembabu/Deep-Learning-Codes/blob/main/CS575_Lab2_Assignment.ipynb\" target=\"_parent\"><img src=\"https://colab.research.google.com/assets/colab-badge.svg\" alt=\"Open In Colab\"/></a>"
      ]
    },
    {
      "cell_type": "markdown",
      "metadata": {
        "id": "IkMxm5y_vWp4"
      },
      "source": [
        "# Simple Exponential Smoothing"
      ]
    },
    {
      "cell_type": "code",
      "metadata": {
        "id": "zQ6ogTTtfGhq"
      },
      "source": [
        "import pandas as pd\r\n",
        "import numpy as np"
      ],
      "execution_count": null,
      "outputs": []
    },
    {
      "cell_type": "code",
      "metadata": {
        "id": "cLd0ZRdHfbbt"
      },
      "source": [
        "df1 = pd.read_csv('D1.csv')\r\n",
        "df2 = pd.read_csv('D2.csv')\r\n",
        "df3 = pd.read_csv('D3.csv')"
      ],
      "execution_count": null,
      "outputs": []
    },
    {
      "cell_type": "code",
      "metadata": {
        "colab": {
          "base_uri": "https://localhost:8080/",
          "height": 204
        },
        "id": "5Cb7c3G9fyoj",
        "outputId": "0da12993-be52-4d67-aeb6-395e19aa0b16"
      },
      "source": [
        "df1.head()"
      ],
      "execution_count": null,
      "outputs": [
        {
          "output_type": "execute_result",
          "data": {
            "text/html": [
              "<div>\n",
              "<style scoped>\n",
              "    .dataframe tbody tr th:only-of-type {\n",
              "        vertical-align: middle;\n",
              "    }\n",
              "\n",
              "    .dataframe tbody tr th {\n",
              "        vertical-align: top;\n",
              "    }\n",
              "\n",
              "    .dataframe thead th {\n",
              "        text-align: right;\n",
              "    }\n",
              "</style>\n",
              "<table border=\"1\" class=\"dataframe\">\n",
              "  <thead>\n",
              "    <tr style=\"text-align: right;\">\n",
              "      <th></th>\n",
              "      <th>Time</th>\n",
              "      <th>Ads</th>\n",
              "    </tr>\n",
              "  </thead>\n",
              "  <tbody>\n",
              "    <tr>\n",
              "      <th>0</th>\n",
              "      <td>13-09-2017 00:00</td>\n",
              "      <td>80115</td>\n",
              "    </tr>\n",
              "    <tr>\n",
              "      <th>1</th>\n",
              "      <td>13-09-2017 01:00</td>\n",
              "      <td>79885</td>\n",
              "    </tr>\n",
              "    <tr>\n",
              "      <th>2</th>\n",
              "      <td>13-09-2017 02:00</td>\n",
              "      <td>89325</td>\n",
              "    </tr>\n",
              "    <tr>\n",
              "      <th>3</th>\n",
              "      <td>13-09-2017 03:00</td>\n",
              "      <td>101930</td>\n",
              "    </tr>\n",
              "    <tr>\n",
              "      <th>4</th>\n",
              "      <td>13-09-2017 04:00</td>\n",
              "      <td>121630</td>\n",
              "    </tr>\n",
              "  </tbody>\n",
              "</table>\n",
              "</div>"
            ],
            "text/plain": [
              "               Time     Ads\n",
              "0  13-09-2017 00:00   80115\n",
              "1  13-09-2017 01:00   79885\n",
              "2  13-09-2017 02:00   89325\n",
              "3  13-09-2017 03:00  101930\n",
              "4  13-09-2017 04:00  121630"
            ]
          },
          "metadata": {
            "tags": []
          },
          "execution_count": 4
        }
      ]
    },
    {
      "cell_type": "code",
      "metadata": {
        "colab": {
          "base_uri": "https://localhost:8080/",
          "height": 204
        },
        "id": "QXVozEZygBfG",
        "outputId": "2af0e035-e27d-42f9-f977-530278af39d2"
      },
      "source": [
        "df2.head()"
      ],
      "execution_count": null,
      "outputs": [
        {
          "output_type": "execute_result",
          "data": {
            "text/html": [
              "<div>\n",
              "<style scoped>\n",
              "    .dataframe tbody tr th:only-of-type {\n",
              "        vertical-align: middle;\n",
              "    }\n",
              "\n",
              "    .dataframe tbody tr th {\n",
              "        vertical-align: top;\n",
              "    }\n",
              "\n",
              "    .dataframe thead th {\n",
              "        text-align: right;\n",
              "    }\n",
              "</style>\n",
              "<table border=\"1\" class=\"dataframe\">\n",
              "  <thead>\n",
              "    <tr style=\"text-align: right;\">\n",
              "      <th></th>\n",
              "      <th>Year</th>\n",
              "      <th>Sales of shampoo over a three year period</th>\n",
              "    </tr>\n",
              "  </thead>\n",
              "  <tbody>\n",
              "    <tr>\n",
              "      <th>0</th>\n",
              "      <td>1</td>\n",
              "      <td>266.0</td>\n",
              "    </tr>\n",
              "    <tr>\n",
              "      <th>1</th>\n",
              "      <td>2</td>\n",
              "      <td>145.9</td>\n",
              "    </tr>\n",
              "    <tr>\n",
              "      <th>2</th>\n",
              "      <td>3</td>\n",
              "      <td>183.1</td>\n",
              "    </tr>\n",
              "    <tr>\n",
              "      <th>3</th>\n",
              "      <td>4</td>\n",
              "      <td>119.3</td>\n",
              "    </tr>\n",
              "    <tr>\n",
              "      <th>4</th>\n",
              "      <td>5</td>\n",
              "      <td>180.3</td>\n",
              "    </tr>\n",
              "  </tbody>\n",
              "</table>\n",
              "</div>"
            ],
            "text/plain": [
              "   Year  Sales of shampoo over a three year period\n",
              "0     1                                      266.0\n",
              "1     2                                      145.9\n",
              "2     3                                      183.1\n",
              "3     4                                      119.3\n",
              "4     5                                      180.3"
            ]
          },
          "metadata": {
            "tags": []
          },
          "execution_count": 5
        }
      ]
    },
    {
      "cell_type": "code",
      "metadata": {
        "colab": {
          "base_uri": "https://localhost:8080/",
          "height": 204
        },
        "id": "s8M7ct6cgDZJ",
        "outputId": "5def8576-5a36-48d3-8dd0-20d49abf4a05"
      },
      "source": [
        "df3.head()"
      ],
      "execution_count": null,
      "outputs": [
        {
          "output_type": "execute_result",
          "data": {
            "text/html": [
              "<div>\n",
              "<style scoped>\n",
              "    .dataframe tbody tr th:only-of-type {\n",
              "        vertical-align: middle;\n",
              "    }\n",
              "\n",
              "    .dataframe tbody tr th {\n",
              "        vertical-align: top;\n",
              "    }\n",
              "\n",
              "    .dataframe thead th {\n",
              "        text-align: right;\n",
              "    }\n",
              "</style>\n",
              "<table border=\"1\" class=\"dataframe\">\n",
              "  <thead>\n",
              "    <tr style=\"text-align: right;\">\n",
              "      <th></th>\n",
              "      <th>Month</th>\n",
              "      <th>Passengers</th>\n",
              "    </tr>\n",
              "  </thead>\n",
              "  <tbody>\n",
              "    <tr>\n",
              "      <th>0</th>\n",
              "      <td>1949-01</td>\n",
              "      <td>112</td>\n",
              "    </tr>\n",
              "    <tr>\n",
              "      <th>1</th>\n",
              "      <td>1949-02</td>\n",
              "      <td>118</td>\n",
              "    </tr>\n",
              "    <tr>\n",
              "      <th>2</th>\n",
              "      <td>1949-03</td>\n",
              "      <td>132</td>\n",
              "    </tr>\n",
              "    <tr>\n",
              "      <th>3</th>\n",
              "      <td>1949-04</td>\n",
              "      <td>129</td>\n",
              "    </tr>\n",
              "    <tr>\n",
              "      <th>4</th>\n",
              "      <td>1949-05</td>\n",
              "      <td>121</td>\n",
              "    </tr>\n",
              "  </tbody>\n",
              "</table>\n",
              "</div>"
            ],
            "text/plain": [
              "     Month  Passengers\n",
              "0  1949-01         112\n",
              "1  1949-02         118\n",
              "2  1949-03         132\n",
              "3  1949-04         129\n",
              "4  1949-05         121"
            ]
          },
          "metadata": {
            "tags": []
          },
          "execution_count": 6
        }
      ]
    },
    {
      "cell_type": "code",
      "metadata": {
        "colab": {
          "base_uri": "https://localhost:8080/"
        },
        "id": "padDtDtkiFFk",
        "outputId": "ddab1b5c-556f-4126-ed36-2cf5144663ba"
      },
      "source": [
        "print(df1.iloc[0]['Ads'])"
      ],
      "execution_count": null,
      "outputs": [
        {
          "output_type": "stream",
          "text": [
            "80115\n"
          ],
          "name": "stdout"
        }
      ]
    },
    {
      "cell_type": "code",
      "metadata": {
        "id": "jDuUn7DwgN8X"
      },
      "source": [
        "S = df1['Ads'].values[0]\r\n",
        "l1 = []\r\n",
        "l1.append(S)\r\n",
        "i = 2\r\n",
        "α = 0.3\r\n",
        "SE1 = (df1['Ads'].values[1]-S)**2\r\n",
        "for i in df1.index:\r\n",
        "  Y = df1['Ads'].values[i-1]\r\n",
        "  S1 = 0.3 * Y + 0.7 * S\r\n",
        "  SE1 = SE1 + (df1['Ads'].values[i]-S1)**2\r\n",
        "  l1.append(S1)\r\n",
        "  S = S1\r\n",
        "MSE1 = SE1/11"
      ],
      "execution_count": null,
      "outputs": []
    },
    {
      "cell_type": "code",
      "metadata": {
        "colab": {
          "base_uri": "https://localhost:8080/"
        },
        "id": "1laZCe6F2m_9",
        "outputId": "f7c4c2b4-16c8-4f66-ec00-06aa2bccb3bb"
      },
      "source": [
        "print(l1)\r\n",
        "print(MSE1)"
      ],
      "execution_count": null,
      "outputs": [
        {
          "output_type": "stream",
          "text": [
            "[80115, 80166.0, 80150.7, 80070.98999999999, 82847.193, 88572.0351, 98489.42456999999, 103885.09719899998, 104668.06803929998, 104106.14762750998, 105290.80333925698, 108541.06233747987, 115287.7436362359, 125407.42054536512, 135062.1943817556, 139758.0360672289, 142619.12524706023, 144863.38767294216, 144838.3713710595, 146593.85995974165, 151767.70197181916, 156107.8913802734, 151131.52396619137, 137560.56677633396, 125326.39674343377, 112484.47772040364, 102776.63440428254, 94544.14408299777, 91712.40085809844, 94822.6806006689, 103916.37642046822, 108150.46349432775, 108472.82444602942, 106673.47711222059, 105343.4339785544, 108492.40378498807, 115106.68264949165, 123872.17785464415, 131401.52449825092, 136726.06714877562, 140120.24700414293, 142727.17290290003, 144858.02103203, 146571.61472242099, 147432.13030569468, 148358.49121398627, 142589.94384979038, 130957.46069485326, 119322.72248639728, 108355.40574047809, 98743.28401833466, 91659.29881283425, 88953.50916898398, 88905.95641828878, 97763.16949280215, 102991.2186449615, 105375.85305147304, 103421.09713603112, 103650.26799522179, 105154.68759665525, 111600.28131765866, 120250.69692236106, 129916.48784565274, 134824.04149195692, 138782.82904436984, 141468.48033105888, 142752.93623174122, 144712.55536221885, 149216.28875355318, 152776.90212748724, 147599.83148924104, 137203.38204246873, 126102.36742972811, 114556.15720080967, 106539.81004056676, 101231.36702839674, 98566.95691987772, 100336.36984391439, 105017.45889074008, 112197.22122351805, 120953.55485646262, 127999.48839952383, 132574.64187966668, 132759.24931576668, 132303.47452103667, 135356.43216472567, 141962.00251530798, 145123.40176071558, 147706.8812325009, 148753.31686275062, 149320.82180392544, 148755.07526274782, 149886.05268392345, 148982.73687874642, 141861.41581512248, 134680.49107058573, 123286.34374941, 114383.440624587, 106786.40843721089, 101553.98590604762, 98260.29013423332, 98269.20309396333, 102559.44216577432, 110632.60951604202, 119864.32666122941, 129673.02866286058, 136545.1200640024, 137932.58404480168, 140817.80883136118, 146905.46618195283, 152734.326327367, 156948.02842915687, 158805.6199004098, 158355.43393028685, 158565.3037512008, 159001.71262584056, 161804.69883808837, 164233.28918666186, 157776.3024306633, 144329.9117014643, 130234.43819102501, 115666.6067337175, 104819.62471360224, 96878.73729952157, 94228.61610966509, 95897.03127676556, 104261.92189373588, 106380.84532561511, 104298.59172793057, 102305.5142095514, 100910.35994668597, 101406.75196268018, 106963.72637387612, 115601.10846171329, 122956.7759231993, 128588.7431462395, 132678.12020236766, 136482.68414165737, 139138.37889916016, 142519.8652294121, 148219.90566058847, 149778.43396241192, 145260.90377368833, 133802.13264158182, 122174.99284910726, 109376.99499437508, 100064.39649606256, 92446.07754724378, 89309.25428307065, 91901.47799814945, 100134.5345987046, 104028.67421909321, 102484.07195336524, 99938.85036735567, 98055.19525714897, 99894.13668000427, 105850.89567600298, 114892.62697320209, 124361.33888124146, 128802.43721686902, 134329.20605180832, 137510.94423626582, 141668.66096538608, 145992.06267577026, 150609.94387303916, 154929.9607111274, 148677.9724977892, 135750.08074845243, 122881.55652391669, 109798.08956674168, 100852.66269671917, 94029.86388770341, 91556.40472139238, 94092.48330497465, 103028.73831348226, 107020.61681943758, 106201.4317736063, 104773.0022415244, 102631.60156906708, 104321.62109834695, 109400.13476884287, 118835.09433819, 124751.066036733, 129622.7462257131, 133193.42235799917, 135712.3956505994, 137181.6769554196, 137881.6738687937, 140381.6717081556, 140994.67019570892, 135879.76913699624, 125523.83839589736, 114317.68687712814, 102837.3808139897, 93086.66656979278, 86805.66659885494, 84822.46661919844, 87859.2266334389, 98074.45864340723, 102837.12105038506, 103934.48473526954, 101941.13931468867, 101016.79752028207, 102402.25826419744, 105995.58078493821, 113897.40654945675, 123717.18458461972, 129200.5292092338, 133284.87044646364, 137105.40931252454, 141609.78651876719, 144663.85056313704, 147964.1953941959, 150341.93677593712, 142257.855743156, 130504.49902020919, 119899.64931414643]\n",
            "8897258122.062395\n"
          ],
          "name": "stdout"
        }
      ]
    },
    {
      "cell_type": "code",
      "metadata": {
        "id": "r_asDvVQ4Cea"
      },
      "source": [
        "S = df1['Ads'].values[0]\r\n",
        "l2 = []\r\n",
        "l2.append(S)\r\n",
        "i = 2\r\n",
        "α = 0.4\r\n",
        "SE2 = (df1['Ads'].values[1]-S)**2\r\n",
        "for i in df1.index:\r\n",
        "  Y = df1['Ads'].values[i-1]\r\n",
        "  S1 = 0.4 * Y + 0.6 * S\r\n",
        "  SE2 = SE2 + (df1['Ads'].values[i]-S1)**2\r\n",
        "  l2.append(S1)\r\n",
        "  S = S1\r\n",
        "MSE2 = SE2/11"
      ],
      "execution_count": null,
      "outputs": []
    },
    {
      "cell_type": "code",
      "metadata": {
        "colab": {
          "base_uri": "https://localhost:8080/"
        },
        "id": "BV8-O5tr4s1L",
        "outputId": "cc5279cd-61b3-4b59-f432-fcbce9d7e528"
      },
      "source": [
        "print(l2)\r\n",
        "print(MSE2)"
      ],
      "execution_count": null,
      "outputs": [
        {
          "output_type": "stream",
          "text": [
            "[80115, 80183.0, 80155.79999999999, 80047.47999999998, 83758.48799999998, 91027.09279999998, 103268.25567999999, 108550.95340799999, 107728.57204479999, 105755.14322688, 106675.08593612799, 110455.05156167678, 118685.03093700607, 130819.01856220364, 141527.4111373222, 145202.44668239332, 146839.46800943598, 148143.6808056616, 146798.20848339697, 148354.92509003816, 154548.9550540229, 159223.3730324137, 151342.02381944822, 133163.21429166893, 118609.92857500135, 104173.95714500081, 94554.37428700048, 86866.6245722003, 86161.97474332017, 92529.1848459921, 105571.51090759525, 110554.90654455715, 110022.94392673428, 107003.76635604056, 105098.25981362433, 109394.95588817459, 117852.97353290475, 128441.78411974285, 136653.0704718457, 141651.84228310743, 144207.10536986444, 146048.26322191866, 147560.9579331512, 148764.57475989073, 149034.74485593443, 149628.84691356064, 141429.30814813636, 126383.58488888181, 112700.15093332909, 100726.09055999745, 90961.65433599846, 84628.99260159908, 83833.39556095944, 85818.03733657565, 98862.82240194539, 105393.69344116724, 107612.21606470033, 104111.3296388202, 104140.79778329212, 105950.47866997527, 114226.28720198516, 124709.77232119109, 135813.86339271464, 139998.31803562876, 143206.99082137726, 145018.19449282635, 145310.9166956958, 146900.55001741747, 152030.33001045047, 155652.19800627028, 147599.31880376214, 133737.5912822573, 120322.55476935436, 107239.53286161262, 99477.71971696758, 95224.63183018054, 94074.77909810832, 98230.86745886499, 105314.52047531899, 114768.71228519139, 125415.22737111483, 133025.13642266887, 137115.08185360132, 135545.0491121608, 133823.0294672965, 137285.8176803779, 145321.49060822674, 148192.89436493604, 150409.73661896162, 150723.84197137697, 150692.30518282618, 149389.3831096957, 150643.6298658174, 149136.17791949044, 139579.70675169426, 130917.82405101655, 117230.69443060993, 107782.41665836595, 100293.44999501956, 95914.06999701174, 93778.44199820704, 95583.06519892422, 102377.83911935452, 113214.70347161271, 124490.82208296763, 135718.49324978056, 142463.09594986832, 141945.857569921, 144187.51454195258, 150956.50872517156, 157107.90523510292, 160976.74314106174, 161842.04588463705, 160027.22753078223, 159638.33651846932, 159791.0019110816, 163212.60114664896, 165887.56068798937, 156616.53641279362, 139151.92184767616, 122429.1531086057, 106127.4918651634, 95480.49511909805, 88628.29707145883, 88394.9782428753, 92952.98694572518, 105283.79216743511, 107700.27530046107, 104396.16518027664, 101699.69910816598, 100081.81946489959, 101075.09167893975, 108617.05500736384, 119472.2330044183, 127731.33980265098, 133330.8038815906, 136886.48232895436, 140275.8893973726, 142299.53363842354, 145543.7201830541, 151934.23210983246, 152526.53926589945, 145403.92355953966, 130068.3541357238, 116059.01248143427, 101441.40748886055, 92198.84449331633, 85187.3066959898, 83908.38401759387, 89525.03041055633, 101453.01824633378, 106117.81094780026, 103222.68656868016, 99533.6119412081, 97184.16716472486, 99984.50029883492, 107890.70017930094, 119130.42010758056, 130060.25206454833, 133702.151238729, 139111.29074323742, 141440.77444594243, 145412.46466756545, 149679.47880053928, 154361.68728032356, 158621.01236819412, 148808.60742091647, 131519.16445254989, 116053.49867152993, 101340.09920291796, 92796.05952175078, 86921.63571305046, 86466.98142783027, 91884.18885669817, 104682.5133140189, 109343.50798841134, 107322.1047930468, 104969.26287582808, 102035.55772549685, 104527.33463529812, 111216.40078117888, 123069.84046870732, 129263.90428122439, 133954.34256873463, 136982.60554124077, 138825.56332474446, 139539.3379948467, 139529.602796908, 142203.7616781448, 142292.25700688688, 134953.3542041321, 121516.01252247926, 108177.60751348756, 95326.56450809253, 85329.9387048555, 80057.9632229133, 80112.77793374797, 86045.66676024877, 100391.40005614926, 105814.84003368954, 106086.90402021373, 102568.14241212823, 101084.88544727693, 102904.93126836616, 107494.95876101969, 117430.97525661181, 129110.58515396708, 134264.35109238024, 137684.61065542814, 141018.7663932569, 145459.25983595412, 147991.55590157246, 151060.9335409435, 152992.56012456608, 141153.53607473965, 125924.12164484379, 113616.47298690627]\n",
            "7083765902.37309\n"
          ],
          "name": "stdout"
        }
      ]
    },
    {
      "cell_type": "code",
      "metadata": {
        "id": "JeMQM8iD5bna"
      },
      "source": [
        "S = df1['Ads'].values[0]\r\n",
        "l3 = []\r\n",
        "l3.append(S)\r\n",
        "i = 2\r\n",
        "α = 0.5\r\n",
        "SE3 = (df1['Ads'].values[1]-S)**2\r\n",
        "for i in df1.index:\r\n",
        "  Y = df1['Ads'].values[i-1]\r\n",
        "  S1 = 0.5 * Y + 0.5 * S\r\n",
        "  SE3 = SE3 + (df1['Ads'].values[i]-S1)**2\r\n",
        "  l3.append(S1)\r\n",
        "  S = S1\r\n",
        "MSE3 = SE3/11"
      ],
      "execution_count": null,
      "outputs": []
    },
    {
      "cell_type": "code",
      "metadata": {
        "colab": {
          "base_uri": "https://localhost:8080/"
        },
        "id": "KTSGNCZ35vNp",
        "outputId": "9511cd44-651f-4cf3-8052-3e288b186966"
      },
      "source": [
        "print(l3)\r\n",
        "print(MSE3)"
      ],
      "execution_count": null,
      "outputs": [
        {
          "output_type": "stream",
          "text": [
            "[80115, 80200.0, 80157.5, 80021.25, 84673.125, 93301.5625, 107465.78125, 111970.390625, 109232.6953125, 106013.84765625, 107034.423828125, 111579.7119140625, 121304.85595703125, 135162.42797851562, 146376.2139892578, 148545.6069946289, 148920.30349731445, 149510.15174865723, 147145.0758743286, 148917.5379371643, 156378.76896858215, 161306.88448429108, 150413.44224214554, 128154.22112107277, 112467.11056053638, 97493.55528026819, 88809.2776401341, 82072.13882006705, 83588.56941003352, 92834.28470501676, 108984.64235250838, 113507.32117625419, 111366.1605881271, 106920.58029406355, 104580.29014703177, 110210.14507351589, 120375.07253675794, 132350.03626837896, 140660.01813418948, 144905.00906709474, 146472.50453354738, 147641.2522667737, 148735.62613338686, 149652.81306669343, 149546.40653334672, 150033.20326667337, 139581.6016333367, 121698.30081666834, 106936.65040833417, 94850.82520416708, 85582.91260208354, 80356.45630104176, 81498.22815052088, 85146.61407526044, 101788.30703763022, 108489.15351881512, 109714.57675940756, 104287.28837970378, 104236.14418985188, 106450.57209492594, 116545.28604746297, 128490.14302373148, 140480.07151186574, 143377.53575593285, 145698.76787796643, 146716.8839389832, 146233.4419694916, 147759.2209847458, 153742.11049237289, 157413.55524618644, 146466.77762309322, 129705.88881154661, 114952.9444057733, 101283.97220288665, 94559.48610144333, 91702.24305072166, 92026.12152536082, 98245.56076268041, 107092.78038134021, 118021.3901906701, 129703.19509533505, 137071.5975476675, 140160.79877383375, 136675.3993869169, 133957.69969345845, 138218.84984672922, 147796.9249233646, 150148.4624616823, 151941.73123084113, 151568.36561542057, 151106.68280771028, 149270.84140385513, 150897.92070192756, 148886.46035096378, 137065.73017548188, 127495.36508774094, 112097.68254387047, 102853.84127193523, 95956.92063596762, 92650.96031798382, 91612.98015899191, 94951.49007949595, 103760.74503974797, 116615.37251987398, 129010.18625993699, 140785.0931299685, 146682.54656498425, 143926.27328249213, 145738.13664124606, 153424.06832062302, 159879.5341603115, 163329.76708015575, 163234.8835400779, 160269.94177003895, 159662.47088501946, 159841.23544250973, 164093.11772125488, 166996.55886062744, 154853.27943031373, 133904.13971515687, 115624.56985757843, 98649.78492878922, 89079.89246439461, 83714.94623219731, 85879.97311609866, 92834.98655804934, 108307.49327902467, 109816.24663951233, 104628.12331975617, 101141.56165987809, 99398.28082993905, 100981.64041496953, 110455.82020748476, 123105.41010374238, 131612.7050518712, 136671.3525259356, 139445.6762629678, 142402.8381314839, 143868.91906574194, 147139.45953287097, 154329.72976643548, 153872.36488321773, 144296.18244160886, 125680.59122080443, 110362.79561040222, 94938.89780520111, 86636.94890260056, 80653.47445130028, 81321.73722565014, 89635.86861282507, 104490.43430641253, 108802.71715320626, 103841.35857660313, 98920.67928830156, 96290.33964415078, 100237.66982207539, 109993.8349110377, 122991.91745551885, 134723.45872775943, 136944.2293638797, 142084.61468193986, 143509.8073409699, 147439.90367048496, 151759.95183524248, 156572.47591762122, 160791.2379588106, 147440.61897940532, 126512.80948970266, 109683.90474485133, 94476.95237242567, 87228.47618621284, 82669.23809310643, 84227.11904655321, 92118.5595232766, 107999.2797616383, 112167.13988081916, 108228.56994040958, 104834.28497020478, 101234.64248510239, 104749.8212425512, 112999.9106212756, 126924.9553106378, 132739.97765531891, 136864.98882765946, 139194.99441382973, 140392.49720691488, 140501.24860345744, 140008.12430172873, 143111.56215086437, 142768.2810754322, 133356.6405377161, 117358.32026885805, 102764.16013442902, 89407.08006721451, 79871.04003360725, 76010.52001680362, 78102.76000840182, 86523.88000420091, 104216.94000210045, 109083.47000105023, 107789.2350005251, 102539.61750026255, 100699.80875013128, 103167.40437506564, 108773.70218753282, 120554.35109376641, 133592.1755468832, 137793.5877734416, 140304.29388672078, 143162.1469433604, 147641.0734716802, 149715.53673584008, 152690.26836792004, 154290.13418396004, 138842.56709198002, 120961.28354599001, 108058.141772995]\n",
            "5786031069.990133\n"
          ],
          "name": "stdout"
        }
      ]
    },
    {
      "cell_type": "code",
      "metadata": {
        "id": "QRh30eqj6llN"
      },
      "source": [
        "df1['l3'] = pd.DataFrame(l3)"
      ],
      "execution_count": null,
      "outputs": []
    },
    {
      "cell_type": "code",
      "metadata": {
        "colab": {
          "base_uri": "https://localhost:8080/",
          "height": 204
        },
        "id": "FY8QDeJs63pE",
        "outputId": "d87b4c89-df58-425a-f1c3-2a1060a260ed"
      },
      "source": [
        "df1.head()"
      ],
      "execution_count": null,
      "outputs": [
        {
          "output_type": "execute_result",
          "data": {
            "text/html": [
              "<div>\n",
              "<style scoped>\n",
              "    .dataframe tbody tr th:only-of-type {\n",
              "        vertical-align: middle;\n",
              "    }\n",
              "\n",
              "    .dataframe tbody tr th {\n",
              "        vertical-align: top;\n",
              "    }\n",
              "\n",
              "    .dataframe thead th {\n",
              "        text-align: right;\n",
              "    }\n",
              "</style>\n",
              "<table border=\"1\" class=\"dataframe\">\n",
              "  <thead>\n",
              "    <tr style=\"text-align: right;\">\n",
              "      <th></th>\n",
              "      <th>Time</th>\n",
              "      <th>Ads</th>\n",
              "      <th>l3</th>\n",
              "    </tr>\n",
              "  </thead>\n",
              "  <tbody>\n",
              "    <tr>\n",
              "      <th>0</th>\n",
              "      <td>13-09-2017 00:00</td>\n",
              "      <td>80115</td>\n",
              "      <td>80115.000</td>\n",
              "    </tr>\n",
              "    <tr>\n",
              "      <th>1</th>\n",
              "      <td>13-09-2017 01:00</td>\n",
              "      <td>79885</td>\n",
              "      <td>80200.000</td>\n",
              "    </tr>\n",
              "    <tr>\n",
              "      <th>2</th>\n",
              "      <td>13-09-2017 02:00</td>\n",
              "      <td>89325</td>\n",
              "      <td>80157.500</td>\n",
              "    </tr>\n",
              "    <tr>\n",
              "      <th>3</th>\n",
              "      <td>13-09-2017 03:00</td>\n",
              "      <td>101930</td>\n",
              "      <td>80021.250</td>\n",
              "    </tr>\n",
              "    <tr>\n",
              "      <th>4</th>\n",
              "      <td>13-09-2017 04:00</td>\n",
              "      <td>121630</td>\n",
              "      <td>84673.125</td>\n",
              "    </tr>\n",
              "  </tbody>\n",
              "</table>\n",
              "</div>"
            ],
            "text/plain": [
              "               Time     Ads         l3\n",
              "0  13-09-2017 00:00   80115  80115.000\n",
              "1  13-09-2017 01:00   79885  80200.000\n",
              "2  13-09-2017 02:00   89325  80157.500\n",
              "3  13-09-2017 03:00  101930  80021.250\n",
              "4  13-09-2017 04:00  121630  84673.125"
            ]
          },
          "metadata": {
            "tags": []
          },
          "execution_count": 16
        }
      ]
    },
    {
      "cell_type": "code",
      "metadata": {
        "id": "wCjgT2G07_An"
      },
      "source": [
        "import matplotlib.pyplot as plt"
      ],
      "execution_count": null,
      "outputs": []
    },
    {
      "cell_type": "code",
      "metadata": {
        "colab": {
          "base_uri": "https://localhost:8080/",
          "height": 296
        },
        "id": "CWLtEynS78fS",
        "outputId": "55204c74-7f12-43c4-9381-3c93ab7598ab"
      },
      "source": [
        "ax = plt.gca()\r\n",
        "df1.plot(kind = 'line', \r\n",
        "        x = 'Time', \r\n",
        "        y = 'Ads', \r\n",
        "        color = 'green',ax = ax)\r\n",
        "df1.plot(kind = 'line', \r\n",
        "        x = 'Time', \r\n",
        "        y = 'l3', \r\n",
        "        color = 'red',ax = ax)"
      ],
      "execution_count": null,
      "outputs": [
        {
          "output_type": "execute_result",
          "data": {
            "text/plain": [
              "<matplotlib.axes._subplots.AxesSubplot at 0x7f78e40ef978>"
            ]
          },
          "metadata": {
            "tags": []
          },
          "execution_count": 18
        },
        {
          "output_type": "display_data",
          "data": {
            "image/png": "[encoded data removed]",
            "text/plain": [
              "<Figure size 432x288 with 1 Axes>"
            ]
          },
          "metadata": {
            "tags": [],
            "needs_background": "light"
          }
        }
      ]
    },
    {
      "cell_type": "markdown",
      "metadata": {
        "id": "UUhVGT1WpU8w"
      },
      "source": [
        "For dataset D2"
      ]
    },
    {
      "cell_type": "code",
      "metadata": {
        "id": "_ovKj0KSpHx0"
      },
      "source": [
        "S = df2['Sales of shampoo over a three year period'].values[0]\r\n",
        "l1 = []\r\n",
        "l1.append(S)\r\n",
        "i = 2\r\n",
        "α = 0.3\r\n",
        "SE1 = (df2['Sales of shampoo over a three year period'].values[1]-S)**2\r\n",
        "for i in df2.index:\r\n",
        "  Y = df2['Sales of shampoo over a three year period'].values[i-1]\r\n",
        "  S1 = 0.3 * Y + 0.7 * S\r\n",
        "  SE1 = SE1 + (df2['Sales of shampoo over a three year period'].values[i]-S1)**2\r\n",
        "  l1.append(S1)\r\n",
        "  S = S1\r\n",
        "MSE1 = SE1/11"
      ],
      "execution_count": null,
      "outputs": []
    },
    {
      "cell_type": "code",
      "metadata": {
        "colab": {
          "base_uri": "https://localhost:8080/"
        },
        "id": "gQ5o-L_zqWmY",
        "outputId": "8325d025-228e-4383-b7d8-49e040494a51"
      },
      "source": [
        "print(l1)\r\n",
        "print(MSE1)"
      ],
      "execution_count": null,
      "outputs": [
        {
          "output_type": "stream",
          "text": [
            "[266.0, 380.27, 345.989, 285.96229999999997, 255.10360999999997, 214.36252699999997, 204.14376889999997, 193.45063822999998, 204.95544676099996, 210.81881273269997, 205.41316891288997, 180.65921823902298, 227.41145276731606, 214.95801693712124, 208.76061185598485, 190.98242829918937, 196.71769980943256, 219.69238986660275, 211.2046729066219, 233.94327103463533, 231.56028972424474, 253.1722028069713, 264.1905419648799, 311.41337937541596, 297.33936556279116, 310.8275558939538, 319.48928912576764, 355.7625023880373, 343.8037516716261, 372.4526261701383, 381.10683831909677, 397.9947868233677, 451.2463507763574, 438.1524455434502, 511.30671188041515, 500.5046983162906, 524.7432888214034]\n",
            "30187.88152630953\n"
          ],
          "name": "stdout"
        }
      ]
    },
    {
      "cell_type": "code",
      "metadata": {
        "id": "nwHQO_4Aqd6Q"
      },
      "source": [
        "S = df2['Sales of shampoo over a three year period'].values[0]\r\n",
        "l2 = []\r\n",
        "l2.append(S)\r\n",
        "i = 2\r\n",
        "α = 0.4\r\n",
        "SE2 = (df2['Sales of shampoo over a three year period'].values[1]-S)**2\r\n",
        "for i in df2.index:\r\n",
        "  Y = df2['Sales of shampoo over a three year period'].values[i-1]\r\n",
        "  S1 = 0.4 * Y + 0.6 * S\r\n",
        "  SE2 = SE2 + (df2['Sales of shampoo over a three year period'].values[i]-S1)**2\r\n",
        "  l2.append(S1)\r\n",
        "  S = S1\r\n",
        "MSE2 = SE2/11"
      ],
      "execution_count": null,
      "outputs": []
    },
    {
      "cell_type": "code",
      "metadata": {
        "colab": {
          "base_uri": "https://localhost:8080/"
        },
        "id": "ZlyCqUf4qyyf",
        "outputId": "74930701-ac48-4406-e2b5-fb8fcae65416"
      },
      "source": [
        "print(l2)\r\n",
        "print(MSE2)"
      ],
      "execution_count": null,
      "outputs": [
        {
          "output_type": "stream",
          "text": [
            "[266.0, 418.36, 357.416, 272.8096, 236.92575999999997, 189.87545599999999, 186.04527359999997, 179.02716415999998, 200.136298496, 209.8817790976, 203.04906745856, 170.98944047513598, 237.19366428508158, 216.67619857104893, 207.72571914262937, 184.43543148557762, 194.70125889134658, 226.14075533480795, 212.24445320088478, 242.14667192053088, 235.68800315231852, 262.8528018913911, 273.67168113483467, 332.8430086809008, 305.5058052085405, 320.2234831251243, 328.01408987507455, 372.96845392504474, 350.14107235502684, 385.80464341301615, 392.00278604780965, 410.1616716286858, 476.2970029772115, 448.8182017863269, 542.0909210717962, 515.3745526430778, 541.7447315858467]\n",
            "29874.98054646569\n"
          ],
          "name": "stdout"
        }
      ]
    },
    {
      "cell_type": "code",
      "metadata": {
        "id": "oaatLI4kq4pY"
      },
      "source": [
        "S = df2['Sales of shampoo over a three year period'].values[0]\r\n",
        "l3 = []\r\n",
        "l3.append(S)\r\n",
        "i = 2\r\n",
        "α = 0.5\r\n",
        "SE3 = (df2['Sales of shampoo over a three year period'].values[1]-S)**2\r\n",
        "for i in df2.index:\r\n",
        "  Y = df2['Sales of shampoo over a three year period'].values[i-1]\r\n",
        "  S1 = 0.5 * Y + 0.5 * S\r\n",
        "  SE3 = SE3 + (df2['Sales of shampoo over a three year period'].values[i]-S1)**2\r\n",
        "  l3.append(S1)\r\n",
        "  S = S1\r\n",
        "MSE3 = SE3/11"
      ],
      "execution_count": null,
      "outputs": []
    },
    {
      "cell_type": "code",
      "metadata": {
        "colab": {
          "base_uri": "https://localhost:8080/"
        },
        "id": "ff_5WQ71rIha",
        "outputId": "e8907024-13b4-43ef-aae6-a36ffb3f013d"
      },
      "source": [
        "print(l3)\r\n",
        "print(MSE3)"
      ],
      "execution_count": null,
      "outputs": [
        {
          "output_type": "stream",
          "text": [
            "[266.0, 456.45, 361.225, 253.5625, 218.33125, 168.815625, 174.5578125, 171.52890625, 201.66445312500002, 213.0822265625, 202.94111328125, 162.92055664062502, 249.7102783203125, 217.80513916015627, 206.05256958007814, 177.77628479003909, 193.93814239501955, 233.61907119750978, 212.5095355987549, 249.75476779937745, 237.8773838996887, 270.73869194984434, 280.31934597492216, 350.9596729874611, 307.72983649373055, 325.01491824686525, 332.3574591234326, 386.3787295617163, 351.13936478085816, 395.21968239042906, 398.25984119521456, 417.82992059760727, 496.66496029880363, 452.13248014940183, 567.0662400747009, 521.1831200373505, 551.2415600186753]\n",
            "31135.9474175793\n"
          ],
          "name": "stdout"
        }
      ]
    },
    {
      "cell_type": "code",
      "metadata": {
        "id": "vUjmzT2PsUn4"
      },
      "source": [
        "df2['l2'] = pd.DataFrame(l2)"
      ],
      "execution_count": null,
      "outputs": []
    },
    {
      "cell_type": "code",
      "metadata": {
        "colab": {
          "base_uri": "https://localhost:8080/",
          "height": 297
        },
        "id": "9GPiAMvGrS3C",
        "outputId": "0645fb42-ab17-4320-f71a-de26b7f0da3d"
      },
      "source": [
        "ax = plt.gca()\r\n",
        "df2.plot(kind = 'line', \r\n",
        "        x = 'Year', \r\n",
        "        y = 'Sales of shampoo over a three year period', \r\n",
        "        color = 'green',ax = ax)\r\n",
        "df2.plot(kind = 'line', \r\n",
        "        x = 'Year', \r\n",
        "        y = 'l2', \r\n",
        "        color = 'red',ax = ax)"
      ],
      "execution_count": null,
      "outputs": [
        {
          "output_type": "execute_result",
          "data": {
            "text/plain": [
              "<matplotlib.axes._subplots.AxesSubplot at 0x7f78e38be668>"
            ]
          },
          "metadata": {
            "tags": []
          },
          "execution_count": 32
        },
        {
          "output_type": "display_data",
          "data": {
            "image/png": "[encoded data removed]",
            "text/plain": [
              "<Figure size 432x288 with 1 Axes>"
            ]
          },
          "metadata": {
            "tags": [],
            "needs_background": "light"
          }
        }
      ]
    },
    {
      "cell_type": "code",
      "metadata": {
        "id": "tvSGUtK9sr4J"
      },
      "source": [
        "For Datset D3"
      ],
      "execution_count": null,
      "outputs": []
    },
    {
      "cell_type": "code",
      "metadata": {
        "colab": {
          "base_uri": "https://localhost:8080/",
          "height": 204
        },
        "id": "xjclvJegs4BT",
        "outputId": "aebbb6a5-836c-4f73-8d9d-4915b748d342"
      },
      "source": [
        "df3.head()"
      ],
      "execution_count": null,
      "outputs": [
        {
          "output_type": "execute_result",
          "data": {
            "text/html": [
              "<div>\n",
              "<style scoped>\n",
              "    .dataframe tbody tr th:only-of-type {\n",
              "        vertical-align: middle;\n",
              "    }\n",
              "\n",
              "    .dataframe tbody tr th {\n",
              "        vertical-align: top;\n",
              "    }\n",
              "\n",
              "    .dataframe thead th {\n",
              "        text-align: right;\n",
              "    }\n",
              "</style>\n",
              "<table border=\"1\" class=\"dataframe\">\n",
              "  <thead>\n",
              "    <tr style=\"text-align: right;\">\n",
              "      <th></th>\n",
              "      <th>Month</th>\n",
              "      <th>Passengers</th>\n",
              "    </tr>\n",
              "  </thead>\n",
              "  <tbody>\n",
              "    <tr>\n",
              "      <th>0</th>\n",
              "      <td>1949-01</td>\n",
              "      <td>112</td>\n",
              "    </tr>\n",
              "    <tr>\n",
              "      <th>1</th>\n",
              "      <td>1949-02</td>\n",
              "      <td>118</td>\n",
              "    </tr>\n",
              "    <tr>\n",
              "      <th>2</th>\n",
              "      <td>1949-03</td>\n",
              "      <td>132</td>\n",
              "    </tr>\n",
              "    <tr>\n",
              "      <th>3</th>\n",
              "      <td>1949-04</td>\n",
              "      <td>129</td>\n",
              "    </tr>\n",
              "    <tr>\n",
              "      <th>4</th>\n",
              "      <td>1949-05</td>\n",
              "      <td>121</td>\n",
              "    </tr>\n",
              "  </tbody>\n",
              "</table>\n",
              "</div>"
            ],
            "text/plain": [
              "     Month  Passengers\n",
              "0  1949-01         112\n",
              "1  1949-02         118\n",
              "2  1949-03         132\n",
              "3  1949-04         129\n",
              "4  1949-05         121"
            ]
          },
          "metadata": {
            "tags": []
          },
          "execution_count": 33
        }
      ]
    },
    {
      "cell_type": "code",
      "metadata": {
        "id": "FBxZf0L7s5vh"
      },
      "source": [
        "S = df3['Passengers'].values[0]\r\n",
        "l1 = []\r\n",
        "l1.append(S)\r\n",
        "i = 2\r\n",
        "α = 0.3\r\n",
        "SE1 = (df3['Passengers'].values[1]-S)**2\r\n",
        "for i in df3.index:\r\n",
        "  Y = df3['Passengers'].values[i-1]\r\n",
        "  S1 = 0.3 * Y + 0.7 * S\r\n",
        "  SE1 = SE1 + (df3['Passengers'].values[i]-S1)**2\r\n",
        "  l1.append(S1)\r\n",
        "  S = S1\r\n",
        "MSE1 = SE1/11"
      ],
      "execution_count": null,
      "outputs": []
    },
    {
      "cell_type": "code",
      "metadata": {
        "colab": {
          "base_uri": "https://localhost:8080/"
        },
        "id": "SD3YTFNxtHRg",
        "outputId": "d11edea9-8903-4d70-f599-6d2e940efdfe"
      },
      "source": [
        "print(l1)\r\n",
        "print(MSE1)"
      ],
      "execution_count": null,
      "outputs": [
        {
          "output_type": "stream",
          "text": [
            "[112, 208.0, 179.2, 160.83999999999997, 152.188, 145.2316, 137.96211999999997, 137.07348399999998, 140.35143879999998, 142.64600715999998, 140.65220501199997, 134.15654350839998, 125.10958045587998, 122.97670631911598, 120.58369442338117, 122.20858609636682, 127.84601026745676, 129.99220718721972, 128.4945450310538, 134.64618152173765, 145.25232706521635, 152.67662894565143, 154.273640261956, 147.8915481833692, 137.72408372835844, 138.4068586098509, 140.38480102689562, 143.26936071882693, 153.68855250317884, 156.48198675222517, 161.1373907265576, 166.1961735085903, 176.0373214560132, 182.92612501920922, 183.24828751344643, 176.8738012594125, 167.61166088158873, 167.12816261711208, 168.28971383197845, 171.8027996823849, 178.1619597776694, 179.01337184436858, 180.209360291058, 191.5465522037406, 203.0825865426184, 214.75781057983286, 213.03046740588297, 206.42132718411807, 196.09492902888263, 195.46645032021783, 195.62651522415246, 195.7385606569067, 207.8169924598347, 215.97189472188427, 219.880326305319, 226.81622841372325, 237.97135988960628, 248.17995192272437, 244.82596634590703, 234.67817644213488, 218.2747235094944, 213.0923064566461, 210.36461451965224, 203.65523016375656, 213.0586611146296, 217.2410627802407, 222.26874394616846, 234.78812076231793, 254.95168453362254, 266.3661791735358, 264.15632542147506, 253.60942779503256, 238.42659945652278, 235.59861961956597, 237.51903373369615, 236.1633236135873, 245.4143265295111, 252.49002857065778, 257.74301999946044, 274.9201139996223, 301.6440797997356, 315.2508558598149, 314.2755991018704, 302.19291937130924, 282.6350435599164, 281.2445304919415, 282.071171344359, 280.5498199410513, 291.4848739587359, 297.9394117711151, 303.95758823978053, 324.97031176784634, 351.3792182374924, 367.46545276624465, 363.72581693637125, 346.40807185545987, 323.7856502988219, 318.4499552091753, 317.4149686464227, 312.4904780524959, 325.54333463674715, 332.280334245723, 339.0962339720061, 363.96736378040424, 394.27715464628295, 416.094008252398, 412.46580577667856, 392.82606404367493, 366.4782448305724, 357.3347713814007, 352.13433996698046, 341.8940379768863, 347.92582658382037, 347.9480786086742, 352.46365502607193, 377.2245585182503, 411.35719096277523, 439.45003367394264, 428.8150235717598, 407.8705165002318, 378.5093615501622, 366.0565530851136, 364.2395871595795, 357.5677110117056, 372.0973977081939, 379.26817839573573, 391.487724877015, 415.64140741391043, 455.3489851897373, 486.44428963281604, 479.41100274297116, 457.6877019200798, 428.98139134405585, 421.78697394083906, 420.3508817585873, 411.54561723101114, 413.7819320617078, 427.9473524431954, 441.1631467102368, 469.31420269716574, 515.119941888016, 542.3839593216112, 532.0687715251278, 510.74814006758936, 474.5236980473125]\n",
            "28645.514907536955\n"
          ],
          "name": "stdout"
        }
      ]
    },
    {
      "cell_type": "code",
      "metadata": {
        "id": "FoJFOD9NtPSI"
      },
      "source": [
        "S = df3['Passengers'].values[0]\r\n",
        "l2 = []\r\n",
        "l2.append(S)\r\n",
        "i = 2\r\n",
        "α = 0.4\r\n",
        "SE2 = (df3['Passengers'].values[1]-S)**2\r\n",
        "for i in df3.index:\r\n",
        "  Y = df3['Passengers'].values[i-1]\r\n",
        "  S1 = 0.4 * Y + 0.6 * S\r\n",
        "  SE2 = SE2 + (df3['Passengers'].values[i]-S1)**2\r\n",
        "  l2.append(S1)\r\n",
        "  S = S1\r\n",
        "MSE2 = SE2/11"
      ],
      "execution_count": null,
      "outputs": []
    },
    {
      "cell_type": "code",
      "metadata": {
        "colab": {
          "base_uri": "https://localhost:8080/"
        },
        "id": "C7faKpbTtgdw",
        "outputId": "95da6495-707f-43ab-a18b-b954f0cec48a"
      },
      "source": [
        "print(l2)\r\n",
        "print(MSE2)"
      ],
      "execution_count": null,
      "outputs": [
        {
          "output_type": "stream",
          "text": [
            "[112, 240.0, 188.8, 160.48000000000002, 149.08800000000002, 141.05280000000002, 133.03168, 133.819008, 139.4914048, 142.89484288, 140.136905728, 131.6821434368, 120.60928606208, 119.565571637248, 117.7393429823488, 121.04360578940928, 129.02616347364557, 131.41569808418734, 128.8494188505124, 136.90965131030742, 150.14579078618445, 158.08747447171066, 158.0524846830264, 148.03149080981584, 134.4188944858895, 136.6513366915337, 139.9908020149202, 143.99448120895212, 157.59668872537128, 159.75801323522276, 164.65480794113364, 169.99288476468018, 181.5957308588081, 188.55743851528487, 186.73446310917092, 176.84067786550253, 164.50440671930153, 165.10264403158092, 167.46158641894857, 172.47695185136914, 180.68617111082148, 180.8117026664929, 181.68702159989573, 196.21221295993743, 209.72732777596246, 222.63639666557748, 217.1818379993465, 206.7091027996079, 192.82546167976471, 193.29527700785883, 194.3771662047153, 195.02629972282918, 211.4157798336975, 220.84946790021849, 224.10968074013107, 231.66580844407866, 244.5994850664472, 255.5596910398683, 248.135814623921, 233.2814887743526, 211.96889326461155, 207.58133595876694, 206.14880157526017, 198.8892809451561, 213.33356856709366, 218.80014114025622, 224.88008468415376, 240.52805081049223, 265.1168304862954, 276.27009829177723, 269.36205897506636, 253.21723538503983, 233.13034123102392, 231.47820473861435, 235.68692284316862, 234.61215370590116, 247.5672922235407, 256.1403753341244, 261.68422520047466, 283.01053512028477, 315.40632107217084, 328.0437926433025, 321.6262755859815, 302.57576535158887, 276.3454592109533, 277.007275526572, 279.8043653159432, 278.6826191895659, 294.00957151373956, 301.6057429082437, 308.1634457449462, 334.49806744696775, 365.89884046818065, 381.53930428090837, 370.92358256854504, 344.95414954112704, 315.37248972467626, 311.62349383480574, 312.97409630088345, 308.18445778053007, 327.31067466831803, 335.58640480099086, 343.3518428805945, 374.8111057283567, 410.886663437014, 433.3319980622084, 421.59919883732505, 391.759519302395, 357.055711581437, 348.63342694886217, 345.18005616931725, 334.3080337015904, 345.3848202209542, 346.4308921325726, 353.05853527954355, 385.83512116772613, 427.90107270063567, 458.7406436203814, 436.84438617222884, 405.7066317033373, 367.42397902200236, 355.2543874132014, 357.15263244792084, 351.0915794687525, 373.0549476812515, 382.2329686087509, 397.33978116525054, 427.20386869915035, 475.5223212194902, 508.91339273169416, 490.54803563901646, 457.1288213834099, 419.07729283004596, 413.44637569802757, 414.86782541881655, 405.3206952512899, 410.792417150774, 430.8754502904644, 447.32527017427867, 482.3951621045672, 538.2370972627402, 565.3422583576441, 542.4053550145865, 509.84321300875183, 461.9059278052511]\n",
            "27035.709665816346\n"
          ],
          "name": "stdout"
        }
      ]
    },
    {
      "cell_type": "code",
      "metadata": {
        "id": "qHr24dxWtmbu"
      },
      "source": [
        "S = df3['Passengers'].values[0]\r\n",
        "l3 = []\r\n",
        "l3.append(S)\r\n",
        "i = 2\r\n",
        "α = 0.5\r\n",
        "SE3 = (df3['Passengers'].values[1]-S)**2\r\n",
        "for i in df3.index:\r\n",
        "  Y = df3['Passengers'].values[i-1]\r\n",
        "  S1 = 0.5 * Y + 0.5 * S\r\n",
        "  SE3 = SE3 + (df3['Passengers'].values[i]-S1)**2\r\n",
        "  l3.append(S1)\r\n",
        "  S = S1\r\n",
        "MSE3 = SE3/11"
      ],
      "execution_count": null,
      "outputs": []
    },
    {
      "cell_type": "code",
      "metadata": {
        "colab": {
          "base_uri": "https://localhost:8080/"
        },
        "id": "msHX-ToNt5Il",
        "outputId": "2a4cdcc5-1580-4d1c-e819-dda1f270ee34"
      },
      "source": [
        "print(l3)\r\n",
        "print(MSE3)"
      ],
      "execution_count": null,
      "outputs": [
        {
          "output_type": "stream",
          "text": [
            "[112, 272.0, 192.0, 155.0, 143.5, 136.25, 128.625, 131.8125, 139.90625, 143.953125, 139.9765625, 129.48828125, 116.744140625, 117.3720703125, 116.18603515625, 121.093017578125, 131.0465087890625, 133.02325439453125, 129.01162719726562, 139.0058135986328, 154.5029067993164, 162.2514533996582, 160.1257266998291, 146.56286334991455, 130.28143167495728, 135.14071583747864, 140.07035791873932, 145.03517895936966, 161.51758947968483, 162.25879473984241, 167.1293973699212, 172.5646986849606, 185.7823493424803, 192.39117467124015, 188.19558733562008, 175.09779366781004, 160.54889683390502, 163.2744484169525, 167.13722420847625, 173.56861210423813, 183.28430605211906, 182.14215302605953, 182.57107651302977, 200.28553825651488, 215.14276912825744, 228.57138456412872, 218.78569228206436, 204.89284614103218, 188.4464230705161, 191.22321153525803, 193.61160576762902, 194.80580288381452, 215.40290144190726, 225.20145072095363, 227.10072536047682, 235.0503626802384, 249.52518134011922, 260.7625906700596, 248.8812953350298, 229.9406476675149, 204.97032383375745, 202.98516191687872, 203.49258095843936, 195.74629047921968, 215.37314523960984, 221.1865726198049, 227.59328630990245, 245.79664315495123, 273.8983215774756, 283.4491607887378, 271.2245803943689, 250.11229019718445, 226.55614509859222, 227.7780725492961, 234.88903627464805, 233.94451813732402, 250.47225906866203, 259.736129534331, 264.8680647671655, 289.93403238358275, 326.96701619179134, 336.9835080958957, 324.49175404794784, 299.2458770239739, 268.12293851198694, 273.0614692559935, 278.5307346279967, 277.76536731399835, 297.3826836569992, 305.1913418284996, 311.5956709142498, 342.7978354571249, 377.8989177285624, 391.4494588642812, 373.22472943214063, 339.6123647160703, 305.30618235803513, 305.65309117901757, 310.3265455895088, 305.6632727947544, 330.8316363973772, 339.4158181986886, 347.2079090993443, 384.60395454967215, 424.8019772748361, 445.90098863741804, 424.95049431870905, 385.9752471593545, 345.48762357967723, 340.7438117898386, 340.37190589491934, 329.18595294745967, 345.59297647372983, 346.7964882368649, 354.89824411843244, 394.9491220592162, 442.97456102960814, 473.98728051480407, 438.99364025740203, 398.996820128701, 354.49841006435054, 345.74920503217527, 352.87460251608763, 347.4373012580438, 376.7186506290219, 386.35932531451095, 403.17966265725545, 437.5898313286277, 492.79491566431386, 525.897457832157, 494.4487289160785, 450.72436445803925, 406.3621822290196, 405.6810911145098, 411.3405455572549, 401.17027277862746, 410.08513638931373, 435.54256819465684, 453.7712840973284, 494.3856420486642, 558.192821024332, 582.096410512166, 545.0482052560831, 503.02410262804153, 446.51205131402077]\n",
            "25511.689781670473\n"
          ],
          "name": "stdout"
        }
      ]
    },
    {
      "cell_type": "code",
      "metadata": {
        "id": "_l7pXiymt8uE"
      },
      "source": [
        "df3['l3'] = pd.DataFrame(l3)"
      ],
      "execution_count": null,
      "outputs": []
    },
    {
      "cell_type": "code",
      "metadata": {
        "colab": {
          "base_uri": "https://localhost:8080/",
          "height": 204
        },
        "id": "hgs3TH6gunMT",
        "outputId": "55f89360-2722-4d90-8ae0-c7a1f86c5f96"
      },
      "source": [
        "df3.head()"
      ],
      "execution_count": null,
      "outputs": [
        {
          "output_type": "execute_result",
          "data": {
            "text/html": [
              "<div>\n",
              "<style scoped>\n",
              "    .dataframe tbody tr th:only-of-type {\n",
              "        vertical-align: middle;\n",
              "    }\n",
              "\n",
              "    .dataframe tbody tr th {\n",
              "        vertical-align: top;\n",
              "    }\n",
              "\n",
              "    .dataframe thead th {\n",
              "        text-align: right;\n",
              "    }\n",
              "</style>\n",
              "<table border=\"1\" class=\"dataframe\">\n",
              "  <thead>\n",
              "    <tr style=\"text-align: right;\">\n",
              "      <th></th>\n",
              "      <th>Month</th>\n",
              "      <th>Passengers</th>\n",
              "      <th>l3</th>\n",
              "    </tr>\n",
              "  </thead>\n",
              "  <tbody>\n",
              "    <tr>\n",
              "      <th>0</th>\n",
              "      <td>1949-01</td>\n",
              "      <td>112</td>\n",
              "      <td>112.0</td>\n",
              "    </tr>\n",
              "    <tr>\n",
              "      <th>1</th>\n",
              "      <td>1949-02</td>\n",
              "      <td>118</td>\n",
              "      <td>272.0</td>\n",
              "    </tr>\n",
              "    <tr>\n",
              "      <th>2</th>\n",
              "      <td>1949-03</td>\n",
              "      <td>132</td>\n",
              "      <td>192.0</td>\n",
              "    </tr>\n",
              "    <tr>\n",
              "      <th>3</th>\n",
              "      <td>1949-04</td>\n",
              "      <td>129</td>\n",
              "      <td>155.0</td>\n",
              "    </tr>\n",
              "    <tr>\n",
              "      <th>4</th>\n",
              "      <td>1949-05</td>\n",
              "      <td>121</td>\n",
              "      <td>143.5</td>\n",
              "    </tr>\n",
              "  </tbody>\n",
              "</table>\n",
              "</div>"
            ],
            "text/plain": [
              "     Month  Passengers     l3\n",
              "0  1949-01         112  112.0\n",
              "1  1949-02         118  272.0\n",
              "2  1949-03         132  192.0\n",
              "3  1949-04         129  155.0\n",
              "4  1949-05         121  143.5"
            ]
          },
          "metadata": {
            "tags": []
          },
          "execution_count": 55
        }
      ]
    },
    {
      "cell_type": "code",
      "metadata": {
        "colab": {
          "base_uri": "https://localhost:8080/",
          "height": 296
        },
        "id": "4euLzPviuIcz",
        "outputId": "40c0b893-7db7-42b5-b848-c05b3c58742b"
      },
      "source": [
        "ax = plt.gca()\r\n",
        "df3.plot(kind = 'line', \r\n",
        "        x = 'Month', \r\n",
        "        y = 'Passengers', \r\n",
        "        color = 'green',ax = ax)\r\n",
        "df3.plot(kind = 'line', \r\n",
        "        x = 'Month', \r\n",
        "        y = 'l3', \r\n",
        "        color = 'red',ax = ax)"
      ],
      "execution_count": null,
      "outputs": [
        {
          "output_type": "execute_result",
          "data": {
            "text/plain": [
              "<matplotlib.axes._subplots.AxesSubplot at 0x7f78e3656710>"
            ]
          },
          "metadata": {
            "tags": []
          },
          "execution_count": 56
        },
        {
          "output_type": "display_data",
          "data": {
            "image/png": "[encoded data removed]",
            "text/plain": [
              "<Figure size 432x288 with 1 Axes>"
            ]
          },
          "metadata": {
            "tags": [],
            "needs_background": "light"
          }
        }
      ]
    },
    {
      "cell_type": "code",
      "metadata": {
        "id": "shYnG_BnuWvx"
      },
      "source": [
        ""
      ],
      "execution_count": null,
      "outputs": []
    },
    {
      "cell_type": "markdown",
      "metadata": {
        "id": "wwt3013v3STb"
      },
      "source": [
        "# Double Exponential Smoothing"
      ]
    },
    {
      "cell_type": "code",
      "metadata": {
        "id": "MF-mDqin3X58"
      },
      "source": [
        "df1 = pd.read_csv('D1.csv')\r\n",
        "df2 = pd.read_csv('D2.csv')\r\n",
        "df3 = pd.read_csv('D3.csv')"
      ],
      "execution_count": null,
      "outputs": []
    },
    {
      "cell_type": "code",
      "metadata": {
        "id": "vbTBh5jr3sM9"
      },
      "source": [
        "# St = α * Y(t-1) + (1-α) * (S(t-1) + b(t-1)), 0< α <1\r\n",
        "# bt = γ * (S(t) - S(t-1)) + (1 - γ) * b(t-1), 0< γ <1\r\n",
        "# Intial values of S2 = Y1, and b2 = Y2-Y1"
      ],
      "execution_count": null,
      "outputs": []
    },
    {
      "cell_type": "code",
      "metadata": {
        "colab": {
          "base_uri": "https://localhost:8080/",
          "height": 204
        },
        "id": "o8QCT84k5PGz",
        "outputId": "f5cebc06-9548-4364-eb42-2d36fec79ed9"
      },
      "source": [
        "df1.head()"
      ],
      "execution_count": null,
      "outputs": [
        {
          "output_type": "execute_result",
          "data": {
            "text/html": [
              "<div>\n",
              "<style scoped>\n",
              "    .dataframe tbody tr th:only-of-type {\n",
              "        vertical-align: middle;\n",
              "    }\n",
              "\n",
              "    .dataframe tbody tr th {\n",
              "        vertical-align: top;\n",
              "    }\n",
              "\n",
              "    .dataframe thead th {\n",
              "        text-align: right;\n",
              "    }\n",
              "</style>\n",
              "<table border=\"1\" class=\"dataframe\">\n",
              "  <thead>\n",
              "    <tr style=\"text-align: right;\">\n",
              "      <th></th>\n",
              "      <th>Time</th>\n",
              "      <th>Ads</th>\n",
              "    </tr>\n",
              "  </thead>\n",
              "  <tbody>\n",
              "    <tr>\n",
              "      <th>0</th>\n",
              "      <td>13-09-2017 00:00</td>\n",
              "      <td>80115</td>\n",
              "    </tr>\n",
              "    <tr>\n",
              "      <th>1</th>\n",
              "      <td>13-09-2017 01:00</td>\n",
              "      <td>79885</td>\n",
              "    </tr>\n",
              "    <tr>\n",
              "      <th>2</th>\n",
              "      <td>13-09-2017 02:00</td>\n",
              "      <td>89325</td>\n",
              "    </tr>\n",
              "    <tr>\n",
              "      <th>3</th>\n",
              "      <td>13-09-2017 03:00</td>\n",
              "      <td>101930</td>\n",
              "    </tr>\n",
              "    <tr>\n",
              "      <th>4</th>\n",
              "      <td>13-09-2017 04:00</td>\n",
              "      <td>121630</td>\n",
              "    </tr>\n",
              "  </tbody>\n",
              "</table>\n",
              "</div>"
            ],
            "text/plain": [
              "               Time     Ads\n",
              "0  13-09-2017 00:00   80115\n",
              "1  13-09-2017 01:00   79885\n",
              "2  13-09-2017 02:00   89325\n",
              "3  13-09-2017 03:00  101930\n",
              "4  13-09-2017 04:00  121630"
            ]
          },
          "metadata": {
            "tags": []
          },
          "execution_count": 59
        }
      ]
    },
    {
      "cell_type": "code",
      "metadata": {
        "colab": {
          "base_uri": "https://localhost:8080/"
        },
        "id": "PPOGdqoY5UHC",
        "outputId": "da1f1fbc-7f80-45b3-9ad3-4384b67fc80d"
      },
      "source": [
        "list1 = []\r\n",
        "s = df1['Ads'].values[0] # S2 = Y1\r\n",
        "b = df1['Ads'].values[1] - df1['Ads'].values[0] # b2 = Y2-Y1\r\n",
        "list1.append(s)\r\n",
        "i=2\r\n",
        "α = 0.3\r\n",
        "γ = 0.3\r\n",
        "SE1 = 0\r\n",
        "for i in df1.index:\r\n",
        "  SE1 = SE1 + (df1['Ads'].values[i-1] - s)**2\r\n",
        "  s1 = 0.3 * df1['Ads'].values[i-1] + 0.7 * (s + b) # St = α * Y(t-1) + (1-α) * (S(t-1) + b(t-1)), 0< α <1\r\n",
        "  list1.append(s1)\r\n",
        "  b = 0.3 * (s1 - s) + 0.7 * b # bt = γ * (S(t) - S(t-1)) + (1 - γ) * b(t-1), 0< γ <1\r\n",
        "  s = s1\r\n",
        "MSE1 = SE1/len(df1['Ads'])\r\n",
        "df1['list1'] = pd.DataFrame(list1)\r\n",
        "print(list1)\r\n",
        "print(MSE1)"
      ],
      "execution_count": null,
      "outputs": [
        {
          "output_type": "stream",
          "text": [
            "[80115, 80005.0, 79902.2, 79780.39199999999, 82536.54111999998, 88858.30680319999, 100369.99516915198, 108795.0774600947, 112389.82809234608, 113265.6190066109, 114514.31693600128, 117228.06696233444, 123499.91595415755, 133964.91781255955, 145216.37651031057, 152143.52371280832, 156437.959620404, 159042.6983898846, 158465.17267343143, 158602.23913130537, 161931.08412999965, 165151.57805738566, 159488.93178139115, 143640.3755278698, 126414.80235289656, 107411.7689186546, 91150.88631200632, 77338.93871927196, 70421.22091962342, 71992.85857710334, 82717.34766539998, 91910.57873732163, 98055.08840130783, 101336.53720998047, 103665.51302715307, 109247.49992673012, 118158.21576302833, 129645.57742976454, 140401.37862780108, 148755.61538992455, 154306.0757383178, 157858.45116574445, 159836.7533600261, 160542.9570936209, 159800.73356871138, 158672.7110800907, 150732.35134084802, 135635.38790270186, 118711.67858475636, 101653.78098956644, 86078.26238387253, 73941.20574533826, 67805.25758128383, 66691.72068413018, 76792.03999455091, 86637.67991233585, 94824.33666267508, 98381.40608827177, 102511.928138245, 106897.87004078421, 115519.57106889108, 126694.10039236568, 139363.451883485, 147553.08725775487, 153694.30416654583, 157396.9686277104, 158523.75657403163, 159223.37004479364, 161950.64617029563, 164067.4313028204, 157611.26207833388, 144331.23003414331, 128386.946900137, 110913.62348532025, 96651.4209812697, 86177.40134012004, 80137.17147070447, 80642.66512975018, 86583.02082940466, 97286.39794451637, 111358.9861100881, 124828.63907608038, 135665.41863542772, 140915.77664978238, 143310.7073613502, 147272.7951969262, 154083.40511410602, 157684.57559586235, 160109.2831294642, 160470.89292133367, 159724.18941272228, 157421.3699095493, 156437.6229654688, 153701.86403772025, 144683.41502490145, 134425.04336368715, 119391.67929810529, 105899.0733153685, 93983.23252906959, 85284.55305104409, 79929.91764183226, 79454.23026761907, 85100.46838158413, 96595.0929070171, 111180.57171318863, 127457.10542332173, 141115.93953231594, 148285.88885070346, 154578.4233770114, 162418.63944149594, 169356.51313690047, 174074.5885413626, 175628.72835576348, 173842.14067382534, 171628.1866358244, 169236.3320119995, 169230.0638942421, 169612.52046133016, 161749.11321677206, 145604.7079560719, 126682.15055753534, 106095.01682838154, 88836.72170341955, 75568.51016263841, 69439.59616945416, 70347.34271897431, 80829.60445893073, 88296.22327559645, 92029.94635245878, 94774.9573345411, 96955.66886189004, 100018.10673346418, 107600.53363755431, 118765.38444303752, 129419.34540700239, 138323.17699514757, 145009.47317728592, 150380.827918827, 153681.40172521136, 156763.12723441137, 161681.55363975436, 162678.41229591655, 156934.00624859758, 142617.16145310053, 125789.67556547355, 106584.41464324202, 90350.48467978818, 76805.84008418955, 69328.36325969346, 70021.67678917378, 79439.04534878436, 87753.73925912118, 91586.03846303603, 93461.1044441032, 94720.15123088092, 98663.57037084604, 106590.39243544546, 118195.53256147499, 131060.1327191629, 139263.8908848198, 147415.6214211458, 152417.6768686709, 157176.17476375808, 161397.5675615809, 165465.46143951456, 169033.24562451182, 161892.60244780383, 145840.41800380588, 127161.9012726648, 106923.81844632622, 90481.31680771984, 77465.44714800059, 70714.84814287706, 71613.24250643165, 81958.82673534102, 90710.14128939688, 95528.79876119026, 98835.3671029385, 100242.8819028978, 104182.43289160852, 111203.04962346125, 122901.70686964664, 132017.61332370824, 139717.6126424176, 145382.62702769658, 149020.45066489917, 150604.18665110006, 150484.82504284166, 151423.987663205, 150475.59260777093, 143543.16273426768, 130151.12717673132, 114228.50084055004, 97101.39732957365, 81503.29911222855, 70123.9834399864, 64754.30395981813, 66810.19096731671, 78870.94468550722, 88798.98726654491, 95775.70821928226, 98862.649146463, 101352.96937230784, 104904.32628689152, 110079.53676127986, 119475.72578483651, 131498.89278069086, 139886.40932752675, 146193.44407083446, 151265.80842477476, 156174.34071430322, 159146.42265268584, 161727.30197081197, 163055.81031612717, 153592.34322939639, 138155.65537803914, 121815.66489806556]\n",
            "598890074.3309772\n"
          ],
          "name": "stdout"
        }
      ]
    },
    {
      "cell_type": "code",
      "metadata": {
        "colab": {
          "base_uri": "https://localhost:8080/",
          "height": 204
        },
        "id": "bEEzqKkN9XGO",
        "outputId": "3a3fd979-0c9c-43c2-aa63-36ed7c185719"
      },
      "source": [
        "df2.head()"
      ],
      "execution_count": null,
      "outputs": [
        {
          "output_type": "execute_result",
          "data": {
            "text/html": [
              "<div>\n",
              "<style scoped>\n",
              "    .dataframe tbody tr th:only-of-type {\n",
              "        vertical-align: middle;\n",
              "    }\n",
              "\n",
              "    .dataframe tbody tr th {\n",
              "        vertical-align: top;\n",
              "    }\n",
              "\n",
              "    .dataframe thead th {\n",
              "        text-align: right;\n",
              "    }\n",
              "</style>\n",
              "<table border=\"1\" class=\"dataframe\">\n",
              "  <thead>\n",
              "    <tr style=\"text-align: right;\">\n",
              "      <th></th>\n",
              "      <th>Year</th>\n",
              "      <th>Sales of shampoo over a three year period</th>\n",
              "    </tr>\n",
              "  </thead>\n",
              "  <tbody>\n",
              "    <tr>\n",
              "      <th>0</th>\n",
              "      <td>1</td>\n",
              "      <td>266.0</td>\n",
              "    </tr>\n",
              "    <tr>\n",
              "      <th>1</th>\n",
              "      <td>2</td>\n",
              "      <td>145.9</td>\n",
              "    </tr>\n",
              "    <tr>\n",
              "      <th>2</th>\n",
              "      <td>3</td>\n",
              "      <td>183.1</td>\n",
              "    </tr>\n",
              "    <tr>\n",
              "      <th>3</th>\n",
              "      <td>4</td>\n",
              "      <td>119.3</td>\n",
              "    </tr>\n",
              "    <tr>\n",
              "      <th>4</th>\n",
              "      <td>5</td>\n",
              "      <td>180.3</td>\n",
              "    </tr>\n",
              "  </tbody>\n",
              "</table>\n",
              "</div>"
            ],
            "text/plain": [
              "   Year  Sales of shampoo over a three year period\n",
              "0     1                                      266.0\n",
              "1     2                                      145.9\n",
              "2     3                                      183.1\n",
              "3     4                                      119.3\n",
              "4     5                                      180.3"
            ]
          },
          "metadata": {
            "tags": []
          },
          "execution_count": 67
        }
      ]
    },
    {
      "cell_type": "code",
      "metadata": {
        "colab": {
          "base_uri": "https://localhost:8080/"
        },
        "id": "qheqn3BK9Srj",
        "outputId": "579fe689-7322-4394-fb0d-3ece46f1e15c"
      },
      "source": [
        "list2 = []\r\n",
        "s = df2['Sales of shampoo over a three year period'].values[0] # S2 = Y1\r\n",
        "b = df2['Sales of shampoo over a three year period'].values[1] - df2['Sales of shampoo over a three year period'].values[0] # b2 = Y2-Y1\r\n",
        "list2.append(s)\r\n",
        "i=2\r\n",
        "α = 0.4\r\n",
        "γ = 0.4\r\n",
        "SE2 = 0\r\n",
        "for i in df2.index:\r\n",
        "  SE2 = SE2 + (df2['Sales of shampoo over a three year period'].values[i-1] - s)**2\r\n",
        "  s1 = 0.4 * df2['Sales of shampoo over a three year period'].values[i-1] + 0.6 * (s + b) # St = α * Y(t-1) + (1-α) * (S(t-1) + b(t-1)), 0< α <1\r\n",
        "  list2.append(s1)\r\n",
        "  b = 0.4 * (s1 - s) + 0.6 * b # bt = γ * (S(t) - S(t-1)) + (1 - γ) * b(t-1), 0< γ <1\r\n",
        "  s = s1\r\n",
        "MSE2 = SE2/len(df2['Sales of shampoo over a three year period'])\r\n",
        "df2['list2'] = pd.DataFrame(list2)\r\n",
        "print(list2)\r\n",
        "print(MSE2)"
      ],
      "execution_count": null,
      "outputs": [
        {
          "output_type": "stream",
          "text": [
            "[266.0, 346.3, 290.216, 204.65104000000002, 158.79189760000003, 109.64570854400002, 106.10268174336002, 111.12843658403843, 148.64333963499934, 181.53734712397596, 195.4677760775258, 175.43918927725156, 240.45576691272674, 234.59279078797556, 226.64415858704876, 198.7799138925649, 198.4165808530642, 225.34792809287353, 216.41906794189936, 245.29870098061096, 244.89868864694017, 272.6748910632273, 288.80862994288316, 351.3434924798154, 337.2654512052043, 348.29615424760493, 352.9151913934285, 393.85218305797406, 376.06202876742555, 405.1220115903084, 412.82647942958874, 430.04492342442273, 496.7928020734155, 482.27468093106467, 571.3758592966838, 559.8564288285859, 581.8157419351533]\n",
            "10660.280589319913\n"
          ],
          "name": "stdout"
        }
      ]
    },
    {
      "cell_type": "code",
      "metadata": {
        "colab": {
          "base_uri": "https://localhost:8080/",
          "height": 204
        },
        "id": "7oNKbcyH-DdY",
        "outputId": "affc18dc-839d-48af-fc2d-d98d6b7f3104"
      },
      "source": [
        "df3.head()"
      ],
      "execution_count": null,
      "outputs": [
        {
          "output_type": "execute_result",
          "data": {
            "text/html": [
              "<div>\n",
              "<style scoped>\n",
              "    .dataframe tbody tr th:only-of-type {\n",
              "        vertical-align: middle;\n",
              "    }\n",
              "\n",
              "    .dataframe tbody tr th {\n",
              "        vertical-align: top;\n",
              "    }\n",
              "\n",
              "    .dataframe thead th {\n",
              "        text-align: right;\n",
              "    }\n",
              "</style>\n",
              "<table border=\"1\" class=\"dataframe\">\n",
              "  <thead>\n",
              "    <tr style=\"text-align: right;\">\n",
              "      <th></th>\n",
              "      <th>Month</th>\n",
              "      <th>Passengers</th>\n",
              "    </tr>\n",
              "  </thead>\n",
              "  <tbody>\n",
              "    <tr>\n",
              "      <th>0</th>\n",
              "      <td>1949-01</td>\n",
              "      <td>112</td>\n",
              "    </tr>\n",
              "    <tr>\n",
              "      <th>1</th>\n",
              "      <td>1949-02</td>\n",
              "      <td>118</td>\n",
              "    </tr>\n",
              "    <tr>\n",
              "      <th>2</th>\n",
              "      <td>1949-03</td>\n",
              "      <td>132</td>\n",
              "    </tr>\n",
              "    <tr>\n",
              "      <th>3</th>\n",
              "      <td>1949-04</td>\n",
              "      <td>129</td>\n",
              "    </tr>\n",
              "    <tr>\n",
              "      <th>4</th>\n",
              "      <td>1949-05</td>\n",
              "      <td>121</td>\n",
              "    </tr>\n",
              "  </tbody>\n",
              "</table>\n",
              "</div>"
            ],
            "text/plain": [
              "     Month  Passengers\n",
              "0  1949-01         112\n",
              "1  1949-02         118\n",
              "2  1949-03         132\n",
              "3  1949-04         129\n",
              "4  1949-05         121"
            ]
          },
          "metadata": {
            "tags": []
          },
          "execution_count": 72
        }
      ]
    },
    {
      "cell_type": "code",
      "metadata": {
        "colab": {
          "base_uri": "https://localhost:8080/"
        },
        "id": "d44J8SQX-TZz",
        "outputId": "453f8b93-2b9b-44da-c018-0f77c626152f"
      },
      "source": [
        "list3 = []\r\n",
        "s = df3['Passengers'].values[0] # S2 = Y1\r\n",
        "b = df3['Passengers'].values[1] - df3['Passengers'].values[0] # b2 = Y2-Y1\r\n",
        "list3.append(s)\r\n",
        "i=2\r\n",
        "α = 0.3\r\n",
        "γ = 0.3\r\n",
        "SE3 = 0\r\n",
        "for i in df3.index:\r\n",
        "  SE3 = SE3 + (df3['Passengers'].values[i-1] - s)**2\r\n",
        "  s1 = 0.3 * df3['Passengers'].values[i-1] + 0.7 * (s + b) # St = α * Y(t-1) + (1-α) * (S(t-1) + b(t-1)), 0< α <1\r\n",
        "  list3.append(s1)\r\n",
        "  b = 0.3 * (s1 - s) + 0.7 * b # bt = γ * (S(t) - S(t-1)) + (1 - γ) * b(t-1), 0< γ <1\r\n",
        "  s = s1\r\n",
        "MSE3 = SE3/len(df3['Passengers'])\r\n",
        "df3['list3'] = pd.DataFrame(list3)\r\n",
        "print(list3)\r\n",
        "print(MSE3)"
      ],
      "execution_count": null,
      "outputs": [
        {
          "output_type": "stream",
          "text": [
            "[112, 212.2, 206.12199999999996, 195.19641999999996, 184.80083619999994, 171.8718522819999, 156.56309683401992, 146.84628930537212, 142.8783579978352, 140.56175386275416, 136.00957312054956, 127.72218502015687, 116.63601669806788, 111.93845736977946, 108.29570467669741, 109.64916437063721, 116.56816136303772, 121.81032473504469, 123.66690986929554, 132.28649757503453, 146.1244241872987, 157.95977463902676, 163.72814023772398, 159.75046353541688, 148.8585481256144, 145.89693800744735, 144.79308650406017, 145.5390126663237, 154.86264983993905, 158.97155737587528, 164.91035248720186, 171.5055773412823, 183.0067327784232, 192.49693563436372, 195.22535342642934, 189.52496407249663, 178.25744475821904, 173.467011209985, 170.94167671732254, 171.87919166789976, 177.16632488319283, 178.69234889441063, 180.56825430176613, 192.60024519975602, 206.9086167603709, 222.60270134436792, 225.43431743217272, 220.53736012474053, 208.75112759831134, 203.79316334596288, 200.04120366818228, 197.05112356359945, 206.86346636966755, 216.05439436064512, 222.39314846187136, 231.62489297116127, 245.41087376025973, 259.1340816742053, 259.3982598632887, 249.76734120795106, 230.23663744049912, 218.34384743363785, 209.35794815980753, 197.78560333374364, 202.90425765546198, 206.97593249167323, 213.72827095277052, 229.27936348978926, 254.68998555162136, 274.03532229525786, 279.0838790092302, 271.8103195981801, 255.06589924660884, 246.45887406831417, 242.76265777735964, 237.4066671737291, 243.46087370555207, 250.41733964432848, 257.2593052334824, 276.69534367487677, 308.4479896531139, 330.57452276909964, 337.04138890107066, 327.91447019235403, 305.5733247789405, 296.0629237594464, 289.5799799074503, 282.43972101938255, 288.9519649059906, 294.8348587850772, 302.0877472097808, 325.39687185819304, 357.7875406448442, 383.0301301374641, 387.6772310699262, 373.2892509263564, 346.6616322424854, 331.712752261952, 321.634388572003, 309.7824390175584, 317.1956548178669, 323.47729694447486, 332.1814897080977, 360.42809056890485, 398.6421830202684, 431.96425126439874, 439.5429164214941, 424.54911955352634, 394.4740409861315, 374.6688223002033, 358.5249752130353, 338.95703448284445, 336.5733428682548, 332.9931578798992, 336.3376441788593, 362.6783966120341, 404.42586762017334, 445.6407692400552, 449.5335311423675, 434.660446671173, 402.7398473409313, 380.14884154907827, 367.3517417553641, 352.3321151417814, 360.0884861495132, 366.6499821014693, 381.08453087870623, 410.29110724368854, 459.0895110472442, 504.55033771548113, 512.4733859888537, 496.76691504121766, 464.19336302416286, 445.09447394004985, 431.7167489265662, 413.22783401373675, 406.68508851351976, 415.81350869715106, 429.57018704294944, 461.9185450511428, 517.2397266022754, 560.5929782938633, 565.6268864315272, 549.8642023490544, 509.53254527990856]\n",
            "3822.1636378685384\n"
          ],
          "name": "stdout"
        }
      ]
    },
    {
      "cell_type": "code",
      "metadata": {
        "colab": {
          "base_uri": "https://localhost:8080/",
          "height": 296
        },
        "id": "QXcprIeV8huz",
        "outputId": "eb6bbe0e-803a-4d4e-90da-30bb0b353b54"
      },
      "source": [
        "ax = plt.gca()\r\n",
        "df3.plot(kind = 'line', \r\n",
        "        x = 'Month', \r\n",
        "        y = 'Passengers', \r\n",
        "        color = 'green',ax = ax)\r\n",
        "df3.plot(kind = 'line', \r\n",
        "        x = 'Month', \r\n",
        "        y = 'list3', \r\n",
        "        color = 'red',ax = ax)"
      ],
      "execution_count": null,
      "outputs": [
        {
          "output_type": "execute_result",
          "data": {
            "text/plain": [
              "<matplotlib.axes._subplots.AxesSubplot at 0x7f78db2eaa20>"
            ]
          },
          "metadata": {
            "tags": []
          },
          "execution_count": 74
        },
        {
          "output_type": "display_data",
          "data": {
            "image/png": "[encoded data removed]",
            "text/plain": [
              "<Figure size 432x288 with 1 Axes>"
            ]
          },
          "metadata": {
            "tags": [],
            "needs_background": "light"
          }
        }
      ]
    },
    {
      "cell_type": "code",
      "metadata": {
        "id": "0-6LNuOg-5lb"
      },
      "source": [
        ""
      ],
      "execution_count": null,
      "outputs": []
    },
    {
      "cell_type": "markdown",
      "metadata": {
        "id": "rPO-VU_L_Kcb"
      },
      "source": [
        "# Triple Exponential Smoothing\r\n"
      ]
    },
    {
      "cell_type": "markdown",
      "metadata": {
        "id": "3w1Rlbq8EnRZ"
      },
      "source": [
        "# KPSS and ADF on D1"
      ]
    },
    {
      "cell_type": "code",
      "metadata": {
        "id": "juILZ7Vj_bSH"
      },
      "source": [
        "import pandas as pd\r\n",
        "import numpy as np\r\n",
        "import matplotlib.pyplot as plt\r\n",
        "import statsmodels.api as sm\r\n",
        "from statsmodels.tsa.stattools import adfuller"
      ],
      "execution_count": null,
      "outputs": []
    },
    {
      "cell_type": "code",
      "metadata": {
        "id": "AyMB9v7CEehY"
      },
      "source": [
        "df1 = pd.read_csv('D1.csv')"
      ],
      "execution_count": null,
      "outputs": []
    },
    {
      "cell_type": "code",
      "metadata": {
        "colab": {
          "base_uri": "https://localhost:8080/",
          "height": 204
        },
        "id": "Q8Fce1fNEjFx",
        "outputId": "c732ceb6-61fe-4e7b-f090-b69e5c438b80"
      },
      "source": [
        "df1.head()"
      ],
      "execution_count": null,
      "outputs": [
        {
          "output_type": "execute_result",
          "data": {
            "text/html": [
              "<div>\n",
              "<style scoped>\n",
              "    .dataframe tbody tr th:only-of-type {\n",
              "        vertical-align: middle;\n",
              "    }\n",
              "\n",
              "    .dataframe tbody tr th {\n",
              "        vertical-align: top;\n",
              "    }\n",
              "\n",
              "    .dataframe thead th {\n",
              "        text-align: right;\n",
              "    }\n",
              "</style>\n",
              "<table border=\"1\" class=\"dataframe\">\n",
              "  <thead>\n",
              "    <tr style=\"text-align: right;\">\n",
              "      <th></th>\n",
              "      <th>Time</th>\n",
              "      <th>Ads</th>\n",
              "    </tr>\n",
              "  </thead>\n",
              "  <tbody>\n",
              "    <tr>\n",
              "      <th>0</th>\n",
              "      <td>13-09-2017 00:00</td>\n",
              "      <td>80115</td>\n",
              "    </tr>\n",
              "    <tr>\n",
              "      <th>1</th>\n",
              "      <td>13-09-2017 01:00</td>\n",
              "      <td>79885</td>\n",
              "    </tr>\n",
              "    <tr>\n",
              "      <th>2</th>\n",
              "      <td>13-09-2017 02:00</td>\n",
              "      <td>89325</td>\n",
              "    </tr>\n",
              "    <tr>\n",
              "      <th>3</th>\n",
              "      <td>13-09-2017 03:00</td>\n",
              "      <td>101930</td>\n",
              "    </tr>\n",
              "    <tr>\n",
              "      <th>4</th>\n",
              "      <td>13-09-2017 04:00</td>\n",
              "      <td>121630</td>\n",
              "    </tr>\n",
              "  </tbody>\n",
              "</table>\n",
              "</div>"
            ],
            "text/plain": [
              "               Time     Ads\n",
              "0  13-09-2017 00:00   80115\n",
              "1  13-09-2017 01:00   79885\n",
              "2  13-09-2017 02:00   89325\n",
              "3  13-09-2017 03:00  101930\n",
              "4  13-09-2017 04:00  121630"
            ]
          },
          "metadata": {
            "tags": []
          },
          "execution_count": 108
        }
      ]
    },
    {
      "cell_type": "code",
      "metadata": {
        "colab": {
          "base_uri": "https://localhost:8080/",
          "height": 319
        },
        "id": "m6vwD9QqEuR0",
        "outputId": "7a93f843-26b9-4c41-d703-13554d745cf7"
      },
      "source": [
        "df1 = pd.read_csv('D1.csv', parse_dates=['Time'], index_col='Time')\r\n",
        "df1.plot(title='Daily Ads', figsize=(6,4), legend=None);"
      ],
      "execution_count": null,
      "outputs": [
        {
          "output_type": "display_data",
          "data": {
            "image/png": "[encoded data removed]",
            "text/plain": [
              "<Figure size 432x288 with 1 Axes>"
            ]
          },
          "metadata": {
            "tags": [],
            "needs_background": "light"
          }
        }
      ]
    },
    {
      "cell_type": "code",
      "metadata": {
        "colab": {
          "base_uri": "https://localhost:8080/"
        },
        "id": "grj15pAoEkwT",
        "outputId": "a40f90d0-868b-4bd6-90b9-04c1205de6fe"
      },
      "source": [
        "X = df1[\"Ads\"].values\r\n",
        "result = adfuller(X)\r\n",
        "print('ADF Statistic: %f' % result[0])\r\n",
        "print('p-value: %f' % result[1])\r\n",
        "print('Critical Values:')\r\n",
        "for key, value in result[4].items():\r\n",
        "    print('\\t%s: %.3f' % (key, value))\r\n",
        "\r\n",
        "if result[0] < result[4][\"5%\"]:\r\n",
        "    print (\"Reject Ho - Time Series is Stationary\")\r\n",
        "else:\r\n",
        "    print (\"Failed to Reject Ho - Time Series is Non-Stationary\")"
      ],
      "execution_count": null,
      "outputs": [
        {
          "output_type": "stream",
          "text": [
            "ADF Statistic: -7.089634\n",
            "p-value: 0.000000\n",
            "Critical Values:\n",
            "\t1%: -3.462\n",
            "\t5%: -2.876\n",
            "\t10%: -2.574\n",
            "Reject Ho - Time Series is Stationary\n"
          ],
          "name": "stdout"
        }
      ]
    },
    {
      "cell_type": "code",
      "metadata": {
        "colab": {
          "base_uri": "https://localhost:8080/"
        },
        "id": "9ImGZzx1Lodn",
        "outputId": "1533723f-d070-4f99-e111-37d78b22ec43"
      },
      "source": [
        "from statsmodels.tsa.stattools import kpss\r\n",
        "#define KPSS\r\n",
        "def kpss_test(atr):\r\n",
        "    timeseries = df1[atr].dropna()\r\n",
        "    print ('Results of KPSS Test for ',atr)\r\n",
        "    kpsstest = kpss(timeseries, regression='c')\r\n",
        "    kpss_output = pd.Series(kpsstest[0:3], index=['Test Statistic','p-value','Lags Used'])\r\n",
        "    for key,value in kpsstest[3].items():\r\n",
        "        kpss_output['Critical Value (%s)'%key] = value\r\n",
        "    print (kpss_output)\r\n",
        "kpss_test('Ads')"
      ],
      "execution_count": null,
      "outputs": [
        {
          "output_type": "stream",
          "text": [
            "Results of KPSS Test for  Ads\n",
            "Test Statistic            0.085159\n",
            "p-value                   0.100000\n",
            "Lags Used                15.000000\n",
            "Critical Value (10%)      0.347000\n",
            "Critical Value (5%)       0.463000\n",
            "Critical Value (2.5%)     0.574000\n",
            "Critical Value (1%)       0.739000\n",
            "dtype: float64\n"
          ],
          "name": "stdout"
        },
        {
          "output_type": "stream",
          "text": [
            "/usr/local/lib/python3.6/dist-packages/statsmodels/tsa/stattools.py:1685: FutureWarning: The behavior of using lags=None will change in the next release. Currently lags=None is the same as lags='legacy', and so a sample-size lag length is used. After the next release, the default will change to be the same as lags='auto' which uses an automatic lag length selection method. To silence this warning, either use 'auto' or 'legacy'\n",
            "  warn(msg, FutureWarning)\n",
            "/usr/local/lib/python3.6/dist-packages/statsmodels/tsa/stattools.py:1711: InterpolationWarning: p-value is greater than the indicated p-value\n",
            "  warn(\"p-value is greater than the indicated p-value\", InterpolationWarning)\n"
          ],
          "name": "stderr"
        }
      ]
    },
    {
      "cell_type": "markdown",
      "metadata": {
        "id": "7WUZ3xaiH7oX"
      },
      "source": [
        "# KPSS and ADF on D2"
      ]
    },
    {
      "cell_type": "code",
      "metadata": {
        "id": "f24PBMnjIF0f"
      },
      "source": [
        "import pandas as pd\r\n",
        "import numpy as np\r\n",
        "import matplotlib.pyplot as plt\r\n",
        "import statsmodels.api as sm\r\n",
        "from statsmodels.tsa.stattools import adfuller"
      ],
      "execution_count": null,
      "outputs": []
    },
    {
      "cell_type": "code",
      "metadata": {
        "id": "L9qnrDq8IHcM"
      },
      "source": [
        "df2 = pd.read_csv('D2.csv')"
      ],
      "execution_count": null,
      "outputs": []
    },
    {
      "cell_type": "code",
      "metadata": {
        "colab": {
          "base_uri": "https://localhost:8080/",
          "height": 204
        },
        "id": "u5gHFF-kISdh",
        "outputId": "d1f42402-f6b4-4bbc-f999-ec7f9d364d08"
      },
      "source": [
        "df2.head()"
      ],
      "execution_count": null,
      "outputs": [
        {
          "output_type": "execute_result",
          "data": {
            "text/html": [
              "<div>\n",
              "<style scoped>\n",
              "    .dataframe tbody tr th:only-of-type {\n",
              "        vertical-align: middle;\n",
              "    }\n",
              "\n",
              "    .dataframe tbody tr th {\n",
              "        vertical-align: top;\n",
              "    }\n",
              "\n",
              "    .dataframe thead th {\n",
              "        text-align: right;\n",
              "    }\n",
              "</style>\n",
              "<table border=\"1\" class=\"dataframe\">\n",
              "  <thead>\n",
              "    <tr style=\"text-align: right;\">\n",
              "      <th></th>\n",
              "      <th>Year</th>\n",
              "      <th>Sales of shampoo over a three year period</th>\n",
              "    </tr>\n",
              "  </thead>\n",
              "  <tbody>\n",
              "    <tr>\n",
              "      <th>0</th>\n",
              "      <td>1</td>\n",
              "      <td>266.0</td>\n",
              "    </tr>\n",
              "    <tr>\n",
              "      <th>1</th>\n",
              "      <td>2</td>\n",
              "      <td>145.9</td>\n",
              "    </tr>\n",
              "    <tr>\n",
              "      <th>2</th>\n",
              "      <td>3</td>\n",
              "      <td>183.1</td>\n",
              "    </tr>\n",
              "    <tr>\n",
              "      <th>3</th>\n",
              "      <td>4</td>\n",
              "      <td>119.3</td>\n",
              "    </tr>\n",
              "    <tr>\n",
              "      <th>4</th>\n",
              "      <td>5</td>\n",
              "      <td>180.3</td>\n",
              "    </tr>\n",
              "  </tbody>\n",
              "</table>\n",
              "</div>"
            ],
            "text/plain": [
              "   Year  Sales of shampoo over a three year period\n",
              "0     1                                      266.0\n",
              "1     2                                      145.9\n",
              "2     3                                      183.1\n",
              "3     4                                      119.3\n",
              "4     5                                      180.3"
            ]
          },
          "metadata": {
            "tags": []
          },
          "execution_count": 112
        }
      ]
    },
    {
      "cell_type": "code",
      "metadata": {
        "colab": {
          "base_uri": "https://localhost:8080/",
          "height": 295
        },
        "id": "Kg0QzqS3Nb3_",
        "outputId": "87ff01e3-f479-4789-8098-856a6c829b84"
      },
      "source": [
        "df2 = pd.read_csv('D2.csv', parse_dates=['Year'], index_col='Year')\r\n",
        "df2.plot(title='Sales of shampoo over a three year period', figsize=(6,4), legend=None);"
      ],
      "execution_count": null,
      "outputs": [
        {
          "output_type": "display_data",
          "data": {
            "image/png": "[encoded data removed]",
            "text/plain": [
              "<Figure size 432x288 with 1 Axes>"
            ]
          },
          "metadata": {
            "tags": [],
            "needs_background": "light"
          }
        }
      ]
    },
    {
      "cell_type": "code",
      "metadata": {
        "colab": {
          "base_uri": "https://localhost:8080/"
        },
        "id": "Sa0RKDJbIK3S",
        "outputId": "886fac92-3abd-45fc-8070-5a6f84fe7419"
      },
      "source": [
        "X = df2[\"Sales of shampoo over a three year period\"].values\r\n",
        "result = adfuller(X)\r\n",
        "print('ADF Statistic: %f' % result[0])\r\n",
        "print('p-value: %f' % result[1])\r\n",
        "print('Critical Values:')\r\n",
        "for key, value in result[4].items():\r\n",
        "    print('\\t%s: %.3f' % (key, value))\r\n",
        "\r\n",
        "if result[0] < result[4][\"5%\"]:\r\n",
        "    print (\"Reject - Time Series is Stationary\")\r\n",
        "else:\r\n",
        "    print (\"Failed to Reject- Time Series is Non-Stationary\")"
      ],
      "execution_count": null,
      "outputs": [
        {
          "output_type": "stream",
          "text": [
            "ADF Statistic: 3.060142\n",
            "p-value: 1.000000\n",
            "Critical Values:\n",
            "\t1%: -3.724\n",
            "\t5%: -2.986\n",
            "\t10%: -2.633\n",
            "Failed to Reject- Time Series is Non-Stationary\n"
          ],
          "name": "stdout"
        }
      ]
    },
    {
      "cell_type": "code",
      "metadata": {
        "colab": {
          "base_uri": "https://localhost:8080/"
        },
        "id": "j9DcL_EaNtFv",
        "outputId": "7db5fea1-5278-4c88-e140-10f719d793b8"
      },
      "source": [
        "from statsmodels.tsa.stattools import kpss\r\n",
        "#define KPSS\r\n",
        "def kpss_test(atr):\r\n",
        "    timeseries = df2[atr].dropna()\r\n",
        "    print ('Results of KPSS Test for ',atr)\r\n",
        "    kpsstest = kpss(timeseries, regression='c')\r\n",
        "    kpss_output = pd.Series(kpsstest[0:3], index=['Test Statistic','p-value','Lags Used'])\r\n",
        "    for key,value in kpsstest[3].items():\r\n",
        "        kpss_output['Critical Value (%s)'%key] = value\r\n",
        "    print (kpss_output)\r\n",
        "kpss_test('Sales of shampoo over a three year period')"
      ],
      "execution_count": null,
      "outputs": [
        {
          "output_type": "stream",
          "text": [
            "Results of KPSS Test for  Sales of shampoo over a three year period\n",
            "Test Statistic            0.439388\n",
            "p-value                   0.060178\n",
            "Lags Used                10.000000\n",
            "Critical Value (10%)      0.347000\n",
            "Critical Value (5%)       0.463000\n",
            "Critical Value (2.5%)     0.574000\n",
            "Critical Value (1%)       0.739000\n",
            "dtype: float64\n"
          ],
          "name": "stdout"
        },
        {
          "output_type": "stream",
          "text": [
            "/usr/local/lib/python3.6/dist-packages/statsmodels/tsa/stattools.py:1685: FutureWarning: The behavior of using lags=None will change in the next release. Currently lags=None is the same as lags='legacy', and so a sample-size lag length is used. After the next release, the default will change to be the same as lags='auto' which uses an automatic lag length selection method. To silence this warning, either use 'auto' or 'legacy'\n",
            "  warn(msg, FutureWarning)\n"
          ],
          "name": "stderr"
        }
      ]
    },
    {
      "cell_type": "markdown",
      "metadata": {
        "id": "6FwTmPSZI-k4"
      },
      "source": [
        "# KPSS and ADF on D3"
      ]
    },
    {
      "cell_type": "code",
      "metadata": {
        "id": "Glui-foLJksT"
      },
      "source": [
        "import pandas as pd\r\n",
        "import numpy as np\r\n",
        "import matplotlib.pyplot as plt\r\n",
        "import statsmodels.api as sm\r\n",
        "from statsmodels.tsa.stattools import adfuller"
      ],
      "execution_count": null,
      "outputs": []
    },
    {
      "cell_type": "code",
      "metadata": {
        "id": "iOgGsX76JKkv"
      },
      "source": [
        "df3 = pd.read_csv('D3.csv')"
      ],
      "execution_count": null,
      "outputs": []
    },
    {
      "cell_type": "code",
      "metadata": {
        "colab": {
          "base_uri": "https://localhost:8080/",
          "height": 204
        },
        "id": "5FL_mVReJXkZ",
        "outputId": "5c0807c0-ee23-4cc6-b888-ee3854247b71"
      },
      "source": [
        "df3.head()"
      ],
      "execution_count": null,
      "outputs": [
        {
          "output_type": "execute_result",
          "data": {
            "text/html": [
              "<div>\n",
              "<style scoped>\n",
              "    .dataframe tbody tr th:only-of-type {\n",
              "        vertical-align: middle;\n",
              "    }\n",
              "\n",
              "    .dataframe tbody tr th {\n",
              "        vertical-align: top;\n",
              "    }\n",
              "\n",
              "    .dataframe thead th {\n",
              "        text-align: right;\n",
              "    }\n",
              "</style>\n",
              "<table border=\"1\" class=\"dataframe\">\n",
              "  <thead>\n",
              "    <tr style=\"text-align: right;\">\n",
              "      <th></th>\n",
              "      <th>Month</th>\n",
              "      <th>Passengers</th>\n",
              "    </tr>\n",
              "  </thead>\n",
              "  <tbody>\n",
              "    <tr>\n",
              "      <th>0</th>\n",
              "      <td>1949-01</td>\n",
              "      <td>112</td>\n",
              "    </tr>\n",
              "    <tr>\n",
              "      <th>1</th>\n",
              "      <td>1949-02</td>\n",
              "      <td>118</td>\n",
              "    </tr>\n",
              "    <tr>\n",
              "      <th>2</th>\n",
              "      <td>1949-03</td>\n",
              "      <td>132</td>\n",
              "    </tr>\n",
              "    <tr>\n",
              "      <th>3</th>\n",
              "      <td>1949-04</td>\n",
              "      <td>129</td>\n",
              "    </tr>\n",
              "    <tr>\n",
              "      <th>4</th>\n",
              "      <td>1949-05</td>\n",
              "      <td>121</td>\n",
              "    </tr>\n",
              "  </tbody>\n",
              "</table>\n",
              "</div>"
            ],
            "text/plain": [
              "     Month  Passengers\n",
              "0  1949-01         112\n",
              "1  1949-02         118\n",
              "2  1949-03         132\n",
              "3  1949-04         129\n",
              "4  1949-05         121"
            ]
          },
          "metadata": {
            "tags": []
          },
          "execution_count": 115
        }
      ]
    },
    {
      "cell_type": "code",
      "metadata": {
        "colab": {
          "base_uri": "https://localhost:8080/",
          "height": 295
        },
        "id": "7fyYE5N1N765",
        "outputId": "c78e8e3b-685e-4b18-8381-fa05b808d61b"
      },
      "source": [
        "df3 = pd.read_csv('D3.csv', parse_dates=['Month'], index_col='Month')\r\n",
        "df3.plot(title='Passengers', figsize=(6,4), legend=None);"
      ],
      "execution_count": null,
      "outputs": [
        {
          "output_type": "display_data",
          "data": {
            "image/png": "[encoded data removed]",
            "text/plain": [
              "<Figure size 432x288 with 1 Axes>"
            ]
          },
          "metadata": {
            "tags": [],
            "needs_background": "light"
          }
        }
      ]
    },
    {
      "cell_type": "code",
      "metadata": {
        "colab": {
          "base_uri": "https://localhost:8080/"
        },
        "id": "4KDpR1JoIQ0L",
        "outputId": "f5c293ec-2424-4a33-d630-17aea027a1b0"
      },
      "source": [
        "X = df3[\"Passengers\"].values\r\n",
        "result = adfuller(X)\r\n",
        "print('ADF Statistic: %f' % result[0])\r\n",
        "print('p-value: %f' % result[1])\r\n",
        "print('Critical Values:')\r\n",
        "for key, value in result[4].items():\r\n",
        "    print('\\t%s: %.3f' % (key, value))\r\n",
        "\r\n",
        "if result[0] < result[4][\"5%\"]:\r\n",
        "    print (\"Reject - Time Series is Stationary\")\r\n",
        "else:\r\n",
        "    print (\"Failed to Reject- Time Series is Non-Stationary\")"
      ],
      "execution_count": null,
      "outputs": [
        {
          "output_type": "stream",
          "text": [
            "ADF Statistic: 0.815369\n",
            "p-value: 0.991880\n",
            "Critical Values:\n",
            "\t1%: -3.482\n",
            "\t5%: -2.884\n",
            "\t10%: -2.579\n",
            "Failed to Reject- Time Series is Non-Stationary\n"
          ],
          "name": "stdout"
        }
      ]
    },
    {
      "cell_type": "code",
      "metadata": {
        "colab": {
          "base_uri": "https://localhost:8080/"
        },
        "id": "zpDWlmhAOHWE",
        "outputId": "18a5e0de-5afb-4cfe-e056-9a4204ce01f4"
      },
      "source": [
        "from statsmodels.tsa.stattools import kpss\r\n",
        "#define KPSS\r\n",
        "def kpss_test(atr):\r\n",
        "    timeseries = df3[atr].dropna()\r\n",
        "    print ('Results of KPSS Test for ',atr)\r\n",
        "    kpsstest = kpss(timeseries, regression='c')\r\n",
        "    kpss_output = pd.Series(kpsstest[0:3], index=['Test Statistic','p-value','Lags Used'])\r\n",
        "    for key,value in kpsstest[3].items():\r\n",
        "        kpss_output['Critical Value (%s)'%key] = value\r\n",
        "    print (kpss_output)\r\n",
        "kpss_test('Passengers')"
      ],
      "execution_count": null,
      "outputs": [
        {
          "output_type": "stream",
          "text": [
            "Results of KPSS Test for  Passengers\n",
            "Test Statistic            1.052175\n",
            "p-value                   0.010000\n",
            "Lags Used                14.000000\n",
            "Critical Value (10%)      0.347000\n",
            "Critical Value (5%)       0.463000\n",
            "Critical Value (2.5%)     0.574000\n",
            "Critical Value (1%)       0.739000\n",
            "dtype: float64\n"
          ],
          "name": "stdout"
        },
        {
          "output_type": "stream",
          "text": [
            "/usr/local/lib/python3.6/dist-packages/statsmodels/tsa/stattools.py:1685: FutureWarning: The behavior of using lags=None will change in the next release. Currently lags=None is the same as lags='legacy', and so a sample-size lag length is used. After the next release, the default will change to be the same as lags='auto' which uses an automatic lag length selection method. To silence this warning, either use 'auto' or 'legacy'\n",
            "  warn(msg, FutureWarning)\n",
            "/usr/local/lib/python3.6/dist-packages/statsmodels/tsa/stattools.py:1709: InterpolationWarning: p-value is smaller than the indicated p-value\n",
            "  warn(\"p-value is smaller than the indicated p-value\", InterpolationWarning)\n"
          ],
          "name": "stderr"
        }
      ]
    },
    {
      "cell_type": "code",
      "metadata": {
        "id": "dimzWCCHOPhA"
      },
      "source": [
        ""
      ],
      "execution_count": null,
      "outputs": []
    }
  ]
}